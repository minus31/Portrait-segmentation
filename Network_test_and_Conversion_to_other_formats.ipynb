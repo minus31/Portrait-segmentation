{
 "cells": [
  {
   "cell_type": "code",
   "execution_count": 2,
   "metadata": {
    "scrolled": true
   },
   "outputs": [],
   "source": [
    "import tensorflow as tf\n",
    "import numpy as np \n",
    "import os\n",
    "\n",
    "from tensorflow.keras.mixed_precision import experimental as mixed_precision"
   ]
  },
  {
   "cell_type": "code",
   "execution_count": 3,
   "metadata": {},
   "outputs": [],
   "source": [
    "from fast_scnn import fastSCNN, fastSCNN_edition2\n",
    "from fast_scnn import *\n",
    "from network import network_big"
   ]
  },
  {
   "cell_type": "code",
   "execution_count": 4,
   "metadata": {},
   "outputs": [],
   "source": [
    "model_path = \"./trained_models/20200825/427_0.1.h5\""
   ]
  },
  {
   "cell_type": "code",
   "execution_count": 5,
   "metadata": {},
   "outputs": [],
   "source": [
    "input_shape=(256, 192, 3)"
   ]
  },
  {
   "cell_type": "code",
   "execution_count": 6,
   "metadata": {},
   "outputs": [
    {
     "name": "stdout",
     "output_type": "stream",
     "text": [
      "Tensor(\"conv2d_35/Identity:0\", shape=(None, 256, 192, 1), dtype=float32)\n"
     ]
    }
   ],
   "source": [
    "model = fastSCNN(input_shape, train=False)\n",
    "model.load_weights(model_path, by_name=True)\n",
    "print(model.output)\n",
    "# model = network_big(input_shape, train=False)"
   ]
  },
  {
   "cell_type": "code",
   "execution_count": 7,
   "metadata": {},
   "outputs": [],
   "source": [
    "# model.summary()"
   ]
  },
  {
   "cell_type": "code",
   "execution_count": 8,
   "metadata": {},
   "outputs": [],
   "source": [
    "withGraph_model = model_path.replace(\".h5\", \"_withGraph.h5\")\n",
    "model.save(withGraph_model)"
   ]
  },
  {
   "cell_type": "markdown",
   "metadata": {},
   "source": [
    "**실행 시간 체크**"
   ]
  },
  {
   "cell_type": "code",
   "execution_count": 9,
   "metadata": {},
   "outputs": [],
   "source": [
    "x = np.random.random(size=(1,) + input_shape)"
   ]
  },
  {
   "cell_type": "code",
   "execution_count": 10,
   "metadata": {},
   "outputs": [
    {
     "name": "stdout",
     "output_type": "stream",
     "text": [
      "58 ms ± 1.82 ms per loop (mean ± std. dev. of 7 runs, 1 loop each)\n"
     ]
    }
   ],
   "source": [
    "%%timeit # 기존 모델의 실행시간\n",
    "pred = model.predict(x)"
   ]
  },
  {
   "cell_type": "markdown",
   "metadata": {},
   "source": [
    "### To Convert TFJS model"
   ]
  },
  {
   "cell_type": "code",
   "execution_count": 11,
   "metadata": {},
   "outputs": [],
   "source": [
    "tf_saved = model_path.replace(\".h5\", \"_InTF_savedModel\")"
   ]
  },
  {
   "cell_type": "code",
   "execution_count": 12,
   "metadata": {},
   "outputs": [
    {
     "name": "stdout",
     "output_type": "stream",
     "text": [
      "WARNING:tensorflow:From /Users/MAC/.pyenv/versions/3.6.9/envs/tf20/lib/python3.6/site-packages/tensorflow_core/python/ops/resource_variable_ops.py:1786: calling BaseResourceVariable.__init__ (from tensorflow.python.ops.resource_variable_ops) with constraint is deprecated and will be removed in a future version.\n",
      "Instructions for updating:\n",
      "If using Keras pass *_constraint arguments to layers.\n",
      "INFO:tensorflow:Assets written to: ./trained_models/20200825/427_0.1_InTF_savedModel/assets\n"
     ]
    }
   ],
   "source": [
    "# save tf-saved model\n",
    "tf.saved_model.save(model, tf_saved)"
   ]
  },
  {
   "cell_type": "code",
   "execution_count": 13,
   "metadata": {},
   "outputs": [
    {
     "name": "stdout",
     "output_type": "stream",
     "text": [
      "Writing weight file ./trained_models/20200825/427_0.1_tfjs_models/model.json...\n"
     ]
    }
   ],
   "source": [
    "import tensorflowjs\n",
    "tensorflowjs.converters.convert_tf_saved_model(tf_saved, model_path.replace(\".h5\", \"_tfjs_models\"))"
   ]
  },
  {
   "cell_type": "code",
   "execution_count": null,
   "metadata": {},
   "outputs": [],
   "source": []
  },
  {
   "cell_type": "markdown",
   "metadata": {},
   "source": [
    "### To Conver TFLITE model"
   ]
  },
  {
   "cell_type": "code",
   "execution_count": 14,
   "metadata": {},
   "outputs": [],
   "source": [
    "tflite_file_name = model_path.replace(\".h5\", \"_tflite.tflite\")\n",
    "tflite_file_name_4channel = model_path.replace(\".h5\", \"_4channel_tflite.tflite\")"
   ]
  },
  {
   "cell_type": "code",
   "execution_count": 15,
   "metadata": {},
   "outputs": [],
   "source": [
    "converter = tf.lite.TFLiteConverter.from_keras_model(model)\n",
    "converter.optimizations = [tf.lite.Optimize.DEFAULT]\n",
    "converter.target_spec.supported_types = [tf.float16]\n",
    "\n",
    "tflite_model = converter.convert()\n",
    "\n",
    "with open(tflite_file_name, \"wb\") as f:\n",
    "    f.write(tflite_model)\n",
    "    \n",
    "############ 4channel ##########################\n",
    "model_4channel = fastSCNN(input_shape, train=True, android=True)\n",
    "model_4channel.load_weights(model_path, by_name=False)\n",
    "model_4channel = tf.keras.models.Model(model_4channel.input, model_4channel.output[0])\n",
    "\n",
    "converter = tf.lite.TFLiteConverter.from_keras_model(model_4channel)\n",
    "converter.optimizations = [tf.lite.Optimize.DEFAULT]\n",
    "converter.target_spec.supported_types = [tf.float16]\n",
    "\n",
    "tflite_model = converter.convert()\n",
    "\n",
    "with open(tflite_file_name_4channel, \"wb\") as f:\n",
    "    f.write(tflite_model)"
   ]
  },
  {
   "cell_type": "code",
   "execution_count": null,
   "metadata": {},
   "outputs": [],
   "source": []
  },
  {
   "cell_type": "markdown",
   "metadata": {},
   "source": [
    "### To Conver mlmodel\n"
   ]
  },
  {
   "cell_type": "code",
   "execution_count": 16,
   "metadata": {},
   "outputs": [
    {
     "name": "stderr",
     "output_type": "stream",
     "text": [
      "WARNING:root:TensorFlow version 2.1.0 detected. Last version known to be fully compatible is 1.14.0 .\n",
      "WARNING:root:Keras version 2.3.0 detected. Last version known to be fully compatible of Keras is 2.2.4 .\n"
     ]
    }
   ],
   "source": [
    "import coremltools"
   ]
  },
  {
   "cell_type": "code",
   "execution_count": 17,
   "metadata": {},
   "outputs": [],
   "source": [
    "coreml_model_file = model_path.replace(\".h5\", \"_coreml.mlmodel\")"
   ]
  },
  {
   "cell_type": "code",
   "execution_count": 18,
   "metadata": {},
   "outputs": [
    {
     "name": "stdout",
     "output_type": "stream",
     "text": [
      "WARNING:tensorflow:No training configuration found in save file: the model was *not* compiled. Compile it manually.\n"
     ]
    },
    {
     "name": "stderr",
     "output_type": "stream",
     "text": [
      "WARNING:tensorflow:No training configuration found in save file: the model was *not* compiled. Compile it manually.\n"
     ]
    },
    {
     "name": "stdout",
     "output_type": "stream",
     "text": [
      "0 assert nodes deleted\n",
      "297 nodes deleted\n",
      "150 nodes deleted\n",
      "0 nodes deleted\n",
      "[Op Fusion] fuse_bias_add() deleted 88 nodes.\n",
      "1 identity nodes deleted\n",
      "36 disconnected nodes deleted\n",
      "[Op Fusion] Fused 294 nodes into BatchNorms.\n",
      "[SSAConverter] Converting function main ...\n",
      "[SSAConverter] [1/198] Converting op type: 'Placeholder', name: 'input_1', output_shape: (-1, 256, 192, 3).\n",
      "[SSAConverter] [2/198] Converting op type: 'Const', name: 'model/depthwise_conv2d/depthwise/ReadVariableOp', output_shape: (3, 3, 32, 1).\n",
      "[SSAConverter] [3/198] Converting op type: 'Const', name: 'model/depthwise_conv2d_1/depthwise/ReadVariableOp', output_shape: (3, 3, 48, 1).\n",
      "[SSAConverter] [4/198] Converting op type: 'Const', name: 'model/depthwise_conv2d_2/depthwise/ReadVariableOp', output_shape: (3, 3, 384, 1).\n",
      "[SSAConverter] [5/198] Converting op type: 'Const', name: 'model/depthwise_conv2d_3/depthwise/ReadVariableOp', output_shape: (3, 3, 384, 1).\n",
      "[SSAConverter] [6/198] Converting op type: 'Const', name: 'model/depthwise_conv2d_4/depthwise/ReadVariableOp', output_shape: (3, 3, 384, 1).\n",
      "[SSAConverter] [7/198] Converting op type: 'Const', name: 'model/depthwise_conv2d_5/depthwise/ReadVariableOp', output_shape: (3, 3, 384, 1).\n",
      "[SSAConverter] [8/198] Converting op type: 'Const', name: 'model/depthwise_conv2d_6/depthwise/ReadVariableOp', output_shape: (3, 3, 576, 1).\n",
      "[SSAConverter] [9/198] Converting op type: 'Const', name: 'model/depthwise_conv2d_7/depthwise/ReadVariableOp', output_shape: (3, 3, 576, 1).\n",
      "[SSAConverter] [10/198] Converting op type: 'Const', name: 'model/depthwise_conv2d_8/depthwise/ReadVariableOp', output_shape: (3, 3, 576, 1).\n",
      "[SSAConverter] [11/198] Converting op type: 'Const', name: 'model/depthwise_conv2d_9/depthwise/ReadVariableOp', output_shape: (3, 3, 768, 1).\n",
      "[SSAConverter] [12/198] Converting op type: 'Const', name: 'model/depthwise_conv2d_10/depthwise/ReadVariableOp', output_shape: (3, 3, 768, 1).\n",
      "[SSAConverter] [13/198] Converting op type: 'Const', name: 'model/lambda/ResizeBilinear/size', output_shape: (2,).\n",
      "[SSAConverter] [14/198] Converting op type: 'Const', name: 'model/lambda_1/ResizeBilinear/size', output_shape: (2,).\n",
      "[SSAConverter] [15/198] Converting op type: 'Const', name: 'model/lambda_2/ResizeBilinear/size', output_shape: (2,).\n",
      "[SSAConverter] [16/198] Converting op type: 'Const', name: 'model/lambda_3/ResizeBilinear/size', output_shape: (2,).\n",
      "[SSAConverter] [17/198] Converting op type: 'Const', name: 'model/concatenate/concat/axis'.\n",
      "[SSAConverter] [18/198] Converting op type: 'Const', name: 'model/lambda_4/ResizeBilinear/size', output_shape: (2,).\n",
      "[SSAConverter] [19/198] Converting op type: 'Const', name: 'model/depthwise_conv2d_11/depthwise/ReadVariableOp', output_shape: (3, 3, 128, 1).\n",
      "[SSAConverter] [20/198] Converting op type: 'Const', name: 'model/depthwise_conv2d_12/depthwise/ReadVariableOp', output_shape: (3, 3, 128, 1).\n",
      "[SSAConverter] [21/198] Converting op type: 'Const', name: 'model/depthwise_conv2d_13/depthwise/ReadVariableOp', output_shape: (3, 3, 128, 1).\n",
      "[SSAConverter] [22/198] Converting op type: 'Const', name: 'model/depthwise_conv2d_14/depthwise/ReadVariableOp', output_shape: (3, 3, 128, 1).\n",
      "[SSAConverter] [23/198] Converting op type: 'Const', name: 'model/concatenate_1/concat/axis'.\n",
      "[SSAConverter] [24/198] Converting op type: 'Const', name: 'model/depthwise_conv2d_15/depthwise/ReadVariableOp', output_shape: (3, 3, 4, 1).\n",
      "[SSAConverter] [25/198] Converting op type: 'Const', name: 'model/lambda_5/ResizeBilinear/size', output_shape: (2,).\n",
      "[SSAConverter] [26/198] Converting op type: 'Const', name: 'model/depthwise_conv2d_16/depthwise/ReadVariableOp', output_shape: (3, 3, 1, 1).\n",
      "[SSAConverter] [27/198] Converting op type: 'Const', name: 'model/batch_normalization_48/ReadVariableOp_1', output_shape: (1, 1, 1, 1).\n",
      "[SSAConverter] [28/198] Converting op type: 'Const', name: 'model/batch_normalization_48/FusedBatchNormV3/ReadVariableOp', output_shape: (1, 1, 1, 1).\n",
      "[SSAConverter] [29/198] Converting op type: 'Const', name: 'model/batch_normalization_48/FusedBatchNormV3/Mul', output_shape: (1, 1, 1, 1).\n",
      "[SSAConverter] [30/198] Converting op type: 'Transpose', name: 'input_1_to_nchw', output_shape: (-1, 3, 256, 192).\n",
      "[SSAConverter] [31/198] Converting op type: 'Conv2D', name: 'model/conv2d/Conv2D', output_shape: (-1, 32, 128, 96).\n",
      "[SSAConverter] [32/198] Converting op type: 'BatchNorm', name: 'model/batch_normalization/FusedBatchNormV3/Add_batch_norm', output_shape: (-1, 32, 128, 96).\n",
      "[SSAConverter] [33/198] Converting op type: 'Relu', name: 'model/activation/Relu', output_shape: (-1, 32, 128, 96).\n",
      "[SSAConverter] [34/198] Converting op type: 'DepthwiseConv2dNative', name: 'model/depthwise_conv2d/depthwise', output_shape: (-1, 32, 64, 48).\n",
      "[SSAConverter] [35/198] Converting op type: 'BatchNorm', name: 'model/batch_normalization_1/FusedBatchNormV3/Add_batch_norm', output_shape: (-1, 32, 64, 48).\n",
      "[SSAConverter] [36/198] Converting op type: 'Relu', name: 'model/activation_1/Relu', output_shape: (-1, 32, 64, 48).\n",
      "[SSAConverter] [37/198] Converting op type: 'Conv2D', name: 'model/conv2d_1/Conv2D', output_shape: (-1, 48, 64, 48).\n",
      "[SSAConverter] [38/198] Converting op type: 'BatchNorm', name: 'model/batch_normalization_2/FusedBatchNormV3/Add_batch_norm', output_shape: (-1, 48, 64, 48).\n",
      "[SSAConverter] [39/198] Converting op type: 'Relu', name: 'model/activation_2/Relu', output_shape: (-1, 48, 64, 48).\n",
      "[SSAConverter] [40/198] Converting op type: 'DepthwiseConv2dNative', name: 'model/depthwise_conv2d_1/depthwise', output_shape: (-1, 48, 32, 24).\n",
      "[SSAConverter] [41/198] Converting op type: 'BatchNorm', name: 'model/batch_normalization_3/FusedBatchNormV3/Add_batch_norm', output_shape: (-1, 48, 32, 24).\n",
      "[SSAConverter] [42/198] Converting op type: 'Relu', name: 'model/activation_3/Relu', output_shape: (-1, 48, 32, 24).\n",
      "[SSAConverter] [43/198] Converting op type: 'Conv2D', name: 'model/conv2d_2/Conv2D', output_shape: (-1, 64, 32, 24).\n",
      "[SSAConverter] [44/198] Converting op type: 'BatchNorm', name: 'model/batch_normalization_4/FusedBatchNormV3/Add_batch_norm', output_shape: (-1, 64, 32, 24).\n",
      "[SSAConverter] [45/198] Converting op type: 'Relu', name: 'model/activation_4/Relu', output_shape: (-1, 64, 32, 24).\n",
      "[SSAConverter] [46/198] Converting op type: 'Conv2D', name: 'model/conv2d_27/Conv2D', output_shape: (-1, 128, 32, 24).\n",
      "[SSAConverter] [47/198] Converting op type: 'Conv2D', name: 'model/conv2d_3/Conv2D', output_shape: (-1, 384, 32, 24).\n",
      "[SSAConverter] [48/198] Converting op type: 'BatchNorm', name: 'model/batch_normalization_39/FusedBatchNormV3/Add_batch_norm', output_shape: (-1, 128, 32, 24).\n",
      "[SSAConverter] [49/198] Converting op type: 'BatchNorm', name: 'model/batch_normalization_5/FusedBatchNormV3/Add_batch_norm', output_shape: (-1, 384, 32, 24).\n",
      "[SSAConverter] [50/198] Converting op type: 'Relu', name: 'model/activation_5/Relu', output_shape: (-1, 384, 32, 24).\n",
      "[SSAConverter] [51/198] Converting op type: 'DepthwiseConv2dNative', name: 'model/depthwise_conv2d_2/depthwise', output_shape: (-1, 384, 16, 12).\n",
      "[SSAConverter] [52/198] Converting op type: 'BatchNorm', name: 'model/batch_normalization_6/FusedBatchNormV3/Add_batch_norm', output_shape: (-1, 384, 16, 12).\n",
      "[SSAConverter] [53/198] Converting op type: 'Relu', name: 'model/activation_6/Relu', output_shape: (-1, 384, 16, 12).\n",
      "[SSAConverter] [54/198] Converting op type: 'Conv2D', name: 'model/conv2d_4/Conv2D', output_shape: (-1, 64, 16, 12).\n",
      "[SSAConverter] [55/198] Converting op type: 'BatchNorm', name: 'model/batch_normalization_7/FusedBatchNormV3/Add_batch_norm', output_shape: (-1, 64, 16, 12).\n",
      "[SSAConverter] [56/198] Converting op type: 'Conv2D', name: 'model/conv2d_5/Conv2D', output_shape: (-1, 384, 16, 12).\n",
      "[SSAConverter] [57/198] Converting op type: 'BatchNorm', name: 'model/batch_normalization_8/FusedBatchNormV3/Add_batch_norm', output_shape: (-1, 384, 16, 12).\n",
      "[SSAConverter] [58/198] Converting op type: 'Relu', name: 'model/activation_7/Relu', output_shape: (-1, 384, 16, 12).\n",
      "[SSAConverter] [59/198] Converting op type: 'DepthwiseConv2dNative', name: 'model/depthwise_conv2d_3/depthwise', output_shape: (-1, 384, 16, 12).\n",
      "[SSAConverter] [60/198] Converting op type: 'BatchNorm', name: 'model/batch_normalization_9/FusedBatchNormV3/Add_batch_norm', output_shape: (-1, 384, 16, 12).\n",
      "[SSAConverter] [61/198] Converting op type: 'Relu', name: 'model/activation_8/Relu', output_shape: (-1, 384, 16, 12).\n",
      "[SSAConverter] [62/198] Converting op type: 'Conv2D', name: 'model/conv2d_6/Conv2D', output_shape: (-1, 64, 16, 12).\n",
      "[SSAConverter] [63/198] Converting op type: 'BatchNorm', name: 'model/batch_normalization_10/FusedBatchNormV3/Add_batch_norm', output_shape: (-1, 64, 16, 12).\n",
      "[SSAConverter] [64/198] Converting op type: 'AddV2', name: 'model/tf_op_layer_add/add', output_shape: (-1, 64, 16, 12).\n",
      "[SSAConverter] [65/198] Converting op type: 'Conv2D', name: 'model/conv2d_7/Conv2D', output_shape: (-1, 384, 16, 12).\n",
      "[SSAConverter] [66/198] Converting op type: 'BatchNorm', name: 'model/batch_normalization_11/FusedBatchNormV3/Add_batch_norm', output_shape: (-1, 384, 16, 12).\n",
      "[SSAConverter] [67/198] Converting op type: 'Relu', name: 'model/activation_9/Relu', output_shape: (-1, 384, 16, 12).\n",
      "[SSAConverter] [68/198] Converting op type: 'DepthwiseConv2dNative', name: 'model/depthwise_conv2d_4/depthwise', output_shape: (-1, 384, 16, 12).\n",
      "[SSAConverter] [69/198] Converting op type: 'BatchNorm', name: 'model/batch_normalization_12/FusedBatchNormV3/Add_batch_norm', output_shape: (-1, 384, 16, 12).\n",
      "[SSAConverter] [70/198] Converting op type: 'Relu', name: 'model/activation_10/Relu', output_shape: (-1, 384, 16, 12).\n",
      "[SSAConverter] [71/198] Converting op type: 'Conv2D', name: 'model/conv2d_8/Conv2D', output_shape: (-1, 64, 16, 12).\n",
      "[SSAConverter] [72/198] Converting op type: 'BatchNorm', name: 'model/batch_normalization_13/FusedBatchNormV3/Add_batch_norm', output_shape: (-1, 64, 16, 12).\n",
      "[SSAConverter] [73/198] Converting op type: 'AddV2', name: 'model/tf_op_layer_add_1/add_1', output_shape: (-1, 64, 16, 12).\n",
      "[SSAConverter] [74/198] Converting op type: 'Conv2D', name: 'model/conv2d_9/Conv2D', output_shape: (-1, 384, 16, 12).\n",
      "[SSAConverter] [75/198] Converting op type: 'BatchNorm', name: 'model/batch_normalization_14/FusedBatchNormV3/Add_batch_norm', output_shape: (-1, 384, 16, 12).\n",
      "[SSAConverter] [76/198] Converting op type: 'Relu', name: 'model/activation_11/Relu', output_shape: (-1, 384, 16, 12).\n",
      "[SSAConverter] [77/198] Converting op type: 'DepthwiseConv2dNative', name: 'model/depthwise_conv2d_5/depthwise', output_shape: (-1, 384, 8, 6).\n",
      "[SSAConverter] [78/198] Converting op type: 'BatchNorm', name: 'model/batch_normalization_15/FusedBatchNormV3/Add_batch_norm', output_shape: (-1, 384, 8, 6).\n",
      "[SSAConverter] [79/198] Converting op type: 'Relu', name: 'model/activation_12/Relu', output_shape: (-1, 384, 8, 6).\n",
      "[SSAConverter] [80/198] Converting op type: 'Conv2D', name: 'model/conv2d_10/Conv2D', output_shape: (-1, 96, 8, 6).\n",
      "[SSAConverter] [81/198] Converting op type: 'BatchNorm', name: 'model/batch_normalization_16/FusedBatchNormV3/Add_batch_norm', output_shape: (-1, 96, 8, 6).\n",
      "[SSAConverter] [82/198] Converting op type: 'Conv2D', name: 'model/conv2d_11/Conv2D', output_shape: (-1, 576, 8, 6).\n",
      "[SSAConverter] [83/198] Converting op type: 'BatchNorm', name: 'model/batch_normalization_17/FusedBatchNormV3/Add_batch_norm', output_shape: (-1, 576, 8, 6).\n",
      "[SSAConverter] [84/198] Converting op type: 'Relu', name: 'model/activation_13/Relu', output_shape: (-1, 576, 8, 6).\n",
      "[SSAConverter] [85/198] Converting op type: 'DepthwiseConv2dNative', name: 'model/depthwise_conv2d_6/depthwise', output_shape: (-1, 576, 8, 6).\n",
      "[SSAConverter] [86/198] Converting op type: 'BatchNorm', name: 'model/batch_normalization_18/FusedBatchNormV3/Add_batch_norm', output_shape: (-1, 576, 8, 6).\n",
      "[SSAConverter] [87/198] Converting op type: 'Relu', name: 'model/activation_14/Relu', output_shape: (-1, 576, 8, 6).\n",
      "[SSAConverter] [88/198] Converting op type: 'Conv2D', name: 'model/conv2d_12/Conv2D', output_shape: (-1, 96, 8, 6).\n",
      "[SSAConverter] [89/198] Converting op type: 'BatchNorm', name: 'model/batch_normalization_19/FusedBatchNormV3/Add_batch_norm', output_shape: (-1, 96, 8, 6).\n",
      "[SSAConverter] [90/198] Converting op type: 'AddV2', name: 'model/tf_op_layer_add_2/add_2', output_shape: (-1, 96, 8, 6).\n",
      "[SSAConverter] [91/198] Converting op type: 'Conv2D', name: 'model/conv2d_13/Conv2D', output_shape: (-1, 576, 8, 6).\n",
      "[SSAConverter] [92/198] Converting op type: 'BatchNorm', name: 'model/batch_normalization_20/FusedBatchNormV3/Add_batch_norm', output_shape: (-1, 576, 8, 6).\n",
      "[SSAConverter] [93/198] Converting op type: 'Relu', name: 'model/activation_15/Relu', output_shape: (-1, 576, 8, 6).\n",
      "[SSAConverter] [94/198] Converting op type: 'DepthwiseConv2dNative', name: 'model/depthwise_conv2d_7/depthwise', output_shape: (-1, 576, 8, 6).\n",
      "[SSAConverter] [95/198] Converting op type: 'BatchNorm', name: 'model/batch_normalization_21/FusedBatchNormV3/Add_batch_norm', output_shape: (-1, 576, 8, 6).\n",
      "[SSAConverter] [96/198] Converting op type: 'Relu', name: 'model/activation_16/Relu', output_shape: (-1, 576, 8, 6).\n",
      "[SSAConverter] [97/198] Converting op type: 'Conv2D', name: 'model/conv2d_14/Conv2D', output_shape: (-1, 96, 8, 6).\n",
      "[SSAConverter] [98/198] Converting op type: 'BatchNorm', name: 'model/batch_normalization_22/FusedBatchNormV3/Add_batch_norm', output_shape: (-1, 96, 8, 6).\n",
      "[SSAConverter] [99/198] Converting op type: 'AddV2', name: 'model/tf_op_layer_add_3/add_3', output_shape: (-1, 96, 8, 6).\n",
      "[SSAConverter] [100/198] Converting op type: 'Conv2D', name: 'model/conv2d_15/Conv2D', output_shape: (-1, 576, 8, 6).\n",
      "[SSAConverter] [101/198] Converting op type: 'BatchNorm', name: 'model/batch_normalization_23/FusedBatchNormV3/Add_batch_norm', output_shape: (-1, 576, 8, 6).\n",
      "[SSAConverter] [102/198] Converting op type: 'Relu', name: 'model/activation_17/Relu', output_shape: (-1, 576, 8, 6).\n",
      "[SSAConverter] [103/198] Converting op type: 'DepthwiseConv2dNative', name: 'model/depthwise_conv2d_8/depthwise', output_shape: (-1, 576, 8, 6).\n",
      "[SSAConverter] [104/198] Converting op type: 'BatchNorm', name: 'model/batch_normalization_24/FusedBatchNormV3/Add_batch_norm', output_shape: (-1, 576, 8, 6).\n",
      "[SSAConverter] [105/198] Converting op type: 'Relu', name: 'model/activation_18/Relu', output_shape: (-1, 576, 8, 6).\n",
      "[SSAConverter] [106/198] Converting op type: 'Conv2D', name: 'model/conv2d_16/Conv2D', output_shape: (-1, 128, 8, 6).\n",
      "[SSAConverter] [107/198] Converting op type: 'BatchNorm', name: 'model/batch_normalization_25/FusedBatchNormV3/Add_batch_norm', output_shape: (-1, 128, 8, 6).\n",
      "[SSAConverter] [108/198] Converting op type: 'Conv2D', name: 'model/conv2d_17/Conv2D', output_shape: (-1, 768, 8, 6).\n",
      "[SSAConverter] [109/198] Converting op type: 'BatchNorm', name: 'model/batch_normalization_26/FusedBatchNormV3/Add_batch_norm', output_shape: (-1, 768, 8, 6).\n",
      "[SSAConverter] [110/198] Converting op type: 'Relu', name: 'model/activation_19/Relu', output_shape: (-1, 768, 8, 6).\n",
      "[SSAConverter] [111/198] Converting op type: 'DepthwiseConv2dNative', name: 'model/depthwise_conv2d_9/depthwise', output_shape: (-1, 768, 8, 6).\n",
      "[SSAConverter] [112/198] Converting op type: 'BatchNorm', name: 'model/batch_normalization_27/FusedBatchNormV3/Add_batch_norm', output_shape: (-1, 768, 8, 6).\n",
      "[SSAConverter] [113/198] Converting op type: 'Relu', name: 'model/activation_20/Relu', output_shape: (-1, 768, 8, 6).\n",
      "[SSAConverter] [114/198] Converting op type: 'Conv2D', name: 'model/conv2d_18/Conv2D', output_shape: (-1, 128, 8, 6).\n"
     ]
    },
    {
     "name": "stdout",
     "output_type": "stream",
     "text": [
      "[SSAConverter] [115/198] Converting op type: 'BatchNorm', name: 'model/batch_normalization_28/FusedBatchNormV3/Add_batch_norm', output_shape: (-1, 128, 8, 6).\n",
      "[SSAConverter] [116/198] Converting op type: 'AddV2', name: 'model/tf_op_layer_add_4/add_4', output_shape: (-1, 128, 8, 6).\n",
      "[SSAConverter] [117/198] Converting op type: 'Conv2D', name: 'model/conv2d_19/Conv2D', output_shape: (-1, 768, 8, 6).\n",
      "[SSAConverter] [118/198] Converting op type: 'BatchNorm', name: 'model/batch_normalization_29/FusedBatchNormV3/Add_batch_norm', output_shape: (-1, 768, 8, 6).\n",
      "[SSAConverter] [119/198] Converting op type: 'Relu', name: 'model/activation_21/Relu', output_shape: (-1, 768, 8, 6).\n",
      "[SSAConverter] [120/198] Converting op type: 'DepthwiseConv2dNative', name: 'model/depthwise_conv2d_10/depthwise', output_shape: (-1, 768, 8, 6).\n",
      "[SSAConverter] [121/198] Converting op type: 'BatchNorm', name: 'model/batch_normalization_30/FusedBatchNormV3/Add_batch_norm', output_shape: (-1, 768, 8, 6).\n",
      "[SSAConverter] [122/198] Converting op type: 'Relu', name: 'model/activation_22/Relu', output_shape: (-1, 768, 8, 6).\n",
      "[SSAConverter] [123/198] Converting op type: 'Conv2D', name: 'model/conv2d_20/Conv2D', output_shape: (-1, 128, 8, 6).\n",
      "[SSAConverter] [124/198] Converting op type: 'BatchNorm', name: 'model/batch_normalization_31/FusedBatchNormV3/Add_batch_norm', output_shape: (-1, 128, 8, 6).\n",
      "[SSAConverter] [125/198] Converting op type: 'AddV2', name: 'model/tf_op_layer_add_5/add_5', output_shape: (-1, 128, 8, 6).\n",
      "[SSAConverter] [126/198] Converting op type: 'AvgPool', name: 'model/average_pooling2d/AvgPool', output_shape: (-1, 128, 8, 6).\n",
      "[SSAConverter] [127/198] Converting op type: 'AvgPool', name: 'model/average_pooling2d_1/AvgPool', output_shape: (-1, 128, -1, -1).\n",
      "[SSAConverter] [128/198] Converting op type: 'AvgPool', name: 'model/average_pooling2d_2/AvgPool', output_shape: (-1, 128, -1, -1).\n",
      "[SSAConverter] [129/198] Converting op type: 'AvgPool', name: 'model/average_pooling2d_3/AvgPool', output_shape: (-1, 128, -1, -1).\n",
      "[SSAConverter] [130/198] Converting op type: 'Conv2D', name: 'model/conv2d_21/Conv2D', output_shape: (-1, 32, 8, 6).\n",
      "[SSAConverter] [131/198] Converting op type: 'Conv2D', name: 'model/conv2d_22/Conv2D', output_shape: (-1, 32, -1, -1).\n",
      "[SSAConverter] [132/198] Converting op type: 'Conv2D', name: 'model/conv2d_23/Conv2D', output_shape: (-1, 32, -1, -1).\n",
      "[SSAConverter] [133/198] Converting op type: 'Conv2D', name: 'model/conv2d_24/Conv2D', output_shape: (-1, 32, -1, -1).\n",
      "[SSAConverter] [134/198] Converting op type: 'BatchNorm', name: 'model/batch_normalization_32/FusedBatchNormV3/Add_batch_norm', output_shape: (-1, 32, 8, 6).\n",
      "[SSAConverter] [135/198] Converting op type: 'BatchNorm', name: 'model/batch_normalization_33/FusedBatchNormV3/Add_batch_norm', output_shape: (-1, 32, -1, -1).\n",
      "[SSAConverter] [136/198] Converting op type: 'BatchNorm', name: 'model/batch_normalization_34/FusedBatchNormV3/Add_batch_norm', output_shape: (-1, 32, -1, -1).\n",
      "[SSAConverter] [137/198] Converting op type: 'BatchNorm', name: 'model/batch_normalization_35/FusedBatchNormV3/Add_batch_norm', output_shape: (-1, 32, -1, -1).\n",
      "[SSAConverter] [138/198] Converting op type: 'Relu', name: 'model/activation_23/Relu', output_shape: (-1, 32, 8, 6).\n",
      "[SSAConverter] [139/198] Converting op type: 'Relu', name: 'model/activation_24/Relu', output_shape: (-1, 32, -1, -1).\n",
      "[SSAConverter] [140/198] Converting op type: 'Relu', name: 'model/activation_25/Relu', output_shape: (-1, 32, -1, -1).\n",
      "[SSAConverter] [141/198] Converting op type: 'Relu', name: 'model/activation_26/Relu', output_shape: (-1, 32, -1, -1).\n",
      "[SSAConverter] [142/198] Converting op type: 'ResizeBilinear', name: 'model/lambda/ResizeBilinear', output_shape: (-1, 32, 8, 6).\n",
      "[SSAConverter] [143/198] Converting op type: 'ResizeBilinear', name: 'model/lambda_1/ResizeBilinear', output_shape: (-1, 32, 8, 6).\n",
      "[SSAConverter] [144/198] Converting op type: 'ResizeBilinear', name: 'model/lambda_2/ResizeBilinear', output_shape: (-1, 32, 8, 6).\n",
      "[SSAConverter] [145/198] Converting op type: 'ResizeBilinear', name: 'model/lambda_3/ResizeBilinear', output_shape: (-1, 32, 8, 6).\n",
      "[SSAConverter] [146/198] Converting op type: 'ConcatV2', name: 'model/concatenate/concat', output_shape: (-1, 256, 8, 6).\n",
      "[SSAConverter] [147/198] Converting op type: 'Conv2D', name: 'model/conv2d_25/Conv2D', output_shape: (-1, 128, 8, 6).\n",
      "[SSAConverter] [148/198] Converting op type: 'BatchNorm', name: 'model/batch_normalization_36/FusedBatchNormV3/Add_batch_norm', output_shape: (-1, 128, 8, 6).\n",
      "[SSAConverter] [149/198] Converting op type: 'Relu', name: 'model/activation_27/Relu', output_shape: (-1, 128, 8, 6).\n",
      "[SSAConverter] [150/198] Converting op type: 'ResizeBilinear', name: 'model/lambda_4/ResizeBilinear', output_shape: (-1, 128, 32, 24).\n",
      "[SSAConverter] [151/198] Converting op type: 'DepthwiseConv2dNative', name: 'model/depthwise_conv2d_11/depthwise', output_shape: (-1, 128, 32, 24).\n",
      "[SSAConverter] [152/198] Converting op type: 'BatchNorm', name: 'model/batch_normalization_37/FusedBatchNormV3/Add_batch_norm', output_shape: (-1, 128, 32, 24).\n",
      "[SSAConverter] [153/198] Converting op type: 'Relu', name: 'model/activation_28/Relu', output_shape: (-1, 128, 32, 24).\n",
      "[SSAConverter] [154/198] Converting op type: 'Conv2D', name: 'model/conv2d_26/Conv2D', output_shape: (-1, 128, 32, 24).\n",
      "[SSAConverter] [155/198] Converting op type: 'BatchNorm', name: 'model/batch_normalization_38/FusedBatchNormV3/Add_batch_norm', output_shape: (-1, 128, 32, 24).\n",
      "[SSAConverter] [156/198] Converting op type: 'AddV2', name: 'model/tf_op_layer_add_6/add_6', output_shape: (-1, 128, 32, 24).\n",
      "[SSAConverter] [157/198] Converting op type: 'Relu', name: 'model/activation_29/Relu', output_shape: (-1, 128, 32, 24).\n",
      "[SSAConverter] [158/198] Converting op type: 'DepthwiseConv2dNative', name: 'model/depthwise_conv2d_12/depthwise', output_shape: (-1, 128, 32, 24).\n",
      "[SSAConverter] [159/198] Converting op type: 'BatchNorm', name: 'model/batch_normalization_40/FusedBatchNormV3/Add_batch_norm', output_shape: (-1, 128, 32, 24).\n",
      "[SSAConverter] [160/198] Converting op type: 'Relu', name: 'model/activation_30/Relu', output_shape: (-1, 128, 32, 24).\n",
      "[SSAConverter] [161/198] Converting op type: 'Conv2D', name: 'model/conv2d_28/Conv2D', output_shape: (-1, 128, 32, 24).\n",
      "[SSAConverter] [162/198] Converting op type: 'BatchNorm', name: 'model/batch_normalization_41/FusedBatchNormV3/Add_batch_norm', output_shape: (-1, 128, 32, 24).\n",
      "[SSAConverter] [163/198] Converting op type: 'Relu', name: 'model/activation_31/Relu', output_shape: (-1, 128, 32, 24).\n",
      "[SSAConverter] [164/198] Converting op type: 'DepthwiseConv2dNative', name: 'model/depthwise_conv2d_13/depthwise', output_shape: (-1, 128, 32, 24).\n",
      "[SSAConverter] [165/198] Converting op type: 'BatchNorm', name: 'model/batch_normalization_42/FusedBatchNormV3/Add_batch_norm', output_shape: (-1, 128, 32, 24).\n",
      "[SSAConverter] [166/198] Converting op type: 'Relu', name: 'model/activation_32/Relu', output_shape: (-1, 128, 32, 24).\n",
      "[SSAConverter] [167/198] Converting op type: 'Conv2D', name: 'model/conv2d_29/Conv2D', output_shape: (-1, 128, 32, 24).\n",
      "[SSAConverter] [168/198] Converting op type: 'BatchNorm', name: 'model/batch_normalization_43/FusedBatchNormV3/Add_batch_norm', output_shape: (-1, 128, 32, 24).\n",
      "[SSAConverter] [169/198] Converting op type: 'Relu', name: 'model/activation_33/Relu', output_shape: (-1, 128, 32, 24).\n",
      "[SSAConverter] [170/198] Converting op type: 'DepthwiseConv2dNative', name: 'model/depthwise_conv2d_14/depthwise', output_shape: (-1, 128, 32, 24).\n",
      "[SSAConverter] [171/198] Converting op type: 'Conv2D', name: 'model/conv2d_30/Conv2D', output_shape: (-1, 1, 32, 24).\n",
      "[SSAConverter] [172/198] Converting op type: 'BatchNorm', name: 'model/batch_normalization_44/FusedBatchNormV3/Add_batch_norm', output_shape: (-1, 128, 32, 24).\n",
      "[SSAConverter] [173/198] Converting op type: 'Sigmoid', name: 'model/activation_34/Sigmoid', output_shape: (-1, 1, 32, 24).\n",
      "[SSAConverter] [174/198] Converting op type: 'Relu', name: 'model/activation_35/Relu', output_shape: (-1, 128, 32, 24).\n",
      "[SSAConverter] [175/198] Converting op type: 'Conv2D', name: 'model/conv2d_31/Conv2D', output_shape: (-1, 3, 32, 24).\n",
      "[SSAConverter] [176/198] Converting op type: 'BatchNorm', name: 'model/batch_normalization_45/FusedBatchNormV3/Add_batch_norm', output_shape: (-1, 3, 32, 24).\n",
      "[SSAConverter] [177/198] Converting op type: 'Relu', name: 'model/activation_36/Relu', output_shape: (-1, 3, 32, 24).\n",
      "[SSAConverter] [178/198] Converting op type: 'ConcatV2', name: 'model/concatenate_1/concat', output_shape: (-1, 4, 32, 24).\n",
      "[SSAConverter] [179/198] Converting op type: 'DepthwiseConv2dNative', name: 'model/depthwise_conv2d_15/depthwise', output_shape: (-1, 4, 32, 24).\n",
      "[SSAConverter] [180/198] Converting op type: 'BatchNorm', name: 'model/batch_normalization_46/FusedBatchNormV3/Add_batch_norm', output_shape: (-1, 4, 32, 24).\n",
      "[SSAConverter] [181/198] Converting op type: 'Relu', name: 'model/activation_37/Relu', output_shape: (-1, 4, 32, 24).\n",
      "[SSAConverter] [182/198] Converting op type: 'Conv2D', name: 'model/conv2d_32/Conv2D', output_shape: (-1, 32, 32, 24).\n",
      "[SSAConverter] [183/198] Converting op type: 'BatchNorm', name: 'model/batch_normalization_47/FusedBatchNormV3/Add_batch_norm', output_shape: (-1, 32, 32, 24).\n",
      "[SSAConverter] [184/198] Converting op type: 'Relu', name: 'model/activation_38/Relu', output_shape: (-1, 32, 32, 24).\n",
      "[SSAConverter] [185/198] Converting op type: 'Conv2D', name: 'model/conv2d_33/Conv2D', output_shape: (-1, 1, 32, 24).\n",
      "[SSAConverter] [186/198] Converting op type: 'Sigmoid', name: 'model/activation_39/Sigmoid', output_shape: (-1, 1, 32, 24).\n",
      "[SSAConverter] [187/198] Converting op type: 'ResizeBilinear', name: 'model/lambda_5/ResizeBilinear', output_shape: (-1, 1, 256, 192).\n",
      "[SSAConverter] [188/198] Converting op type: 'DepthwiseConv2dNative', name: 'model/depthwise_conv2d_16/depthwise', output_shape: (-1, 1, 256, 192).\n",
      "[SSAConverter] [189/198] Converting op type: 'Sub', name: 'model/batch_normalization_48/FusedBatchNormV3/Sub', output_shape: (-1, 1, 256, 192).\n",
      "[SSAConverter] [190/198] Converting op type: 'Mul', name: 'model/batch_normalization_48/FusedBatchNormV3/Mul_0', output_shape: (-1, 1, 256, 192).\n",
      "[SSAConverter] [191/198] Converting op type: 'Add', name: 'model/batch_normalization_48/FusedBatchNormV3/Add', output_shape: (-1, 1, 256, 192).\n",
      "[SSAConverter] [192/198] Converting op type: 'Relu', name: 'model/activation_40/Relu', output_shape: (-1, 1, 256, 192).\n",
      "[SSAConverter] [193/198] Converting op type: 'Conv2D', name: 'model/conv2d_34/Conv2D', output_shape: (-1, 8, 256, 192).\n",
      "[SSAConverter] [194/198] Converting op type: 'BatchNorm', name: 'model/batch_normalization_49/FusedBatchNormV3/Add_batch_norm', output_shape: (-1, 8, 256, 192).\n",
      "[SSAConverter] [195/198] Converting op type: 'Relu', name: 'model/activation_41/Relu', output_shape: (-1, 8, 256, 192).\n",
      "[SSAConverter] [196/198] Converting op type: 'Conv2D', name: 'model/conv2d_35/Conv2D', output_shape: (-1, 1, 256, 192).\n",
      "[SSAConverter] [197/198] Converting op type: 'Sigmoid', name: 'model/conv2d_35/Sigmoid', output_shape: (-1, 1, 256, 192).\n",
      "[SSAConverter] [198/198] Converting op type: 'Transpose', name: 'Identity', output_shape: (-1, 256, 192, 1).\n",
      "1 transpose pairs deleted\n"
     ]
    },
    {
     "name": "stderr",
     "output_type": "stream",
     "text": [
      "/Users/MAC/.pyenv/versions/3.6.9/envs/tf20/lib/python3.6/site-packages/coremltools/models/model.py:112: RuntimeWarning: You will not be able to run predict() on this Core ML model. Underlying exception message was: Error compiling model: \"Error reading protobuf spec. validator error: The .mlmodel supplied is of version 4, intended for a newer version of Xcode. This version of Xcode supports model version 3 or earlier.\".\n",
      "  RuntimeWarning)\n"
     ]
    }
   ],
   "source": [
    "ml_model = coremltools.converters.tensorflow.convert(withGraph_model,\n",
    "                                                input_names='input_1', \n",
    "                                                image_input_names='input_1', \n",
    "                                                red_bias = -(123.68) / 58.393,\n",
    "                                                green_bias = -(116.779) / 57.12, \n",
    "                                                blue_bias = -(103.939) / 57.375,\n",
    "                                                image_scale = 1.0 / 57.63,\n",
    "                                                custom_conversion_functions={\"BilinearInterpolation\":BilinearInterpolation}\n",
    "                                               )\n",
    "ml_model.save(coreml_model_file)"
   ]
  },
  {
   "cell_type": "code",
   "execution_count": null,
   "metadata": {},
   "outputs": [],
   "source": []
  }
 ],
 "metadata": {
  "kernelspec": {
   "display_name": "Python 3",
   "language": "python",
   "name": "python3"
  },
  "language_info": {
   "codemirror_mode": {
    "name": "ipython",
    "version": 3
   },
   "file_extension": ".py",
   "mimetype": "text/x-python",
   "name": "python",
   "nbconvert_exporter": "python",
   "pygments_lexer": "ipython3",
   "version": "3.6.9"
  },
  "toc": {
   "base_numbering": 1,
   "nav_menu": {},
   "number_sections": true,
   "sideBar": true,
   "skip_h1_title": false,
   "title_cell": "Table of Contents",
   "title_sidebar": "Contents",
   "toc_cell": false,
   "toc_position": {},
   "toc_section_display": true,
   "toc_window_display": false
  },
  "varInspector": {
   "cols": {
    "lenName": 16,
    "lenType": 16,
    "lenVar": 40
   },
   "kernels_config": {
    "python": {
     "delete_cmd_postfix": "",
     "delete_cmd_prefix": "del ",
     "library": "var_list.py",
     "varRefreshCmd": "print(var_dic_list())"
    },
    "r": {
     "delete_cmd_postfix": ") ",
     "delete_cmd_prefix": "rm(",
     "library": "var_list.r",
     "varRefreshCmd": "cat(var_dic_list()) "
    }
   },
   "types_to_exclude": [
    "module",
    "function",
    "builtin_function_or_method",
    "instance",
    "_Feature"
   ],
   "window_display": false
  }
 },
 "nbformat": 4,
 "nbformat_minor": 4
}
