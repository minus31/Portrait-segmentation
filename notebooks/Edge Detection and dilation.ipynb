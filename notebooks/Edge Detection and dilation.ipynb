{
 "cells": [
  {
   "cell_type": "code",
   "execution_count": 118,
   "metadata": {},
   "outputs": [],
   "source": [
    "import cv2 \n",
    "import numpy as np \n",
    "import matplotlib.pyplot as plt\n",
    "import keras\n",
    "import tensorflow as tf"
   ]
  },
  {
   "cell_type": "code",
   "execution_count": 131,
   "metadata": {},
   "outputs": [],
   "source": [
    "img_paths = np.load(\"./dataset/img_paths_with_supervisely.npy\")"
   ]
  },
  {
   "cell_type": "code",
   "execution_count": 147,
   "metadata": {},
   "outputs": [],
   "source": [
    "mask_path = np.random.choice(img_paths)\n",
    "mask_ID = mask_path.split(\".p\")[0] + \"_matte.png\"\n",
    "if 'Supervisely' in mask_ID:\n",
    "    mask_ID = mask_ID.replace(\"/img/\", \"/masks_machine/\")\n",
    "    mask_ID = mask_ID.replace(\".jpeg\", \"\")\n"
   ]
  },
  {
   "cell_type": "code",
   "execution_count": 148,
   "metadata": {},
   "outputs": [],
   "source": [
    "# mask = cv2.imread(\"./dataset/selfie/training/00694_matte.png\", cv2.IMREAD_GRAYSCALE)\n",
    "mask = cv2.imread(mask_ID, cv2.IMREAD_GRAYSCALE)\n",
    "if \"Supervisely\" in mask_path:\n",
    "    mask = mask * 255\n",
    "mask = cv2.resize(mask, (256,256))\n",
    "edge = cv2.Canny(mask, 0, 30)\n",
    "k = np.int((mask[mask > 50].shape[0] / (mask.shape[0] * mask.shape[1])) * 50)\n",
    "\n",
    "if k < 2:\n",
    "    k = 2\n",
    "ksize = (k, k)\n",
    "\n",
    "kernel = cv2.getStructuringElement(2, ksize)\n",
    "dil = cv2.dilate(edge, kernel)"
   ]
  },
  {
   "cell_type": "code",
   "execution_count": 149,
   "metadata": {},
   "outputs": [
    {
     "data": {
      "image/png": "[encoded data removed]",
      "text/plain": [
       "<Figure size 1080x360 with 3 Axes>"
      ]
     },
     "metadata": {
      "needs_background": "light"
     },
     "output_type": "display_data"
    }
   ],
   "source": [
    "plt.figure(figsize=(15,5))\n",
    "plt.subplot(131)\n",
    "plt.imshow(mask)\n",
    "plt.subplot(132)\n",
    "plt.imshow(edge)\n",
    "plt.subplot(133)\n",
    "plt.imshow(dil)\n",
    "plt.show()"
   ]
  },
  {
   "cell_type": "code",
   "execution_count": null,
   "metadata": {},
   "outputs": [],
   "source": []
  },
  {
   "cell_type": "code",
   "execution_count": 3,
   "metadata": {},
   "outputs": [
    {
     "data": {
      "text/plain": [
       "(37877,)"
      ]
     },
     "execution_count": 3,
     "metadata": {},
     "output_type": "execute_result"
    }
   ],
   "source": [
    "mask[mask > 200].shape"
   ]
  },
  {
   "cell_type": "code",
   "execution_count": 4,
   "metadata": {},
   "outputs": [
    {
     "data": {
      "text/plain": [
       "29.8675537109375"
      ]
     },
     "execution_count": 4,
     "metadata": {},
     "output_type": "execute_result"
    }
   ],
   "source": [
    "(mask[mask > 100].shape[0] / (mask.shape[0] * mask.shape[1])) * 50"
   ]
  },
  {
   "cell_type": "code",
   "execution_count": 5,
   "metadata": {},
   "outputs": [],
   "source": [
    "k = np.int((mask[mask > 100].shape[0] / (mask.shape[0] * mask.shape[1])) * 50)"
   ]
  },
  {
   "cell_type": "code",
   "execution_count": 67,
   "metadata": {},
   "outputs": [
    {
     "data": {
      "text/plain": [
       "29"
      ]
     },
     "execution_count": 67,
     "metadata": {},
     "output_type": "execute_result"
    }
   ],
   "source": [
    "k"
   ]
  },
  {
   "cell_type": "code",
   "execution_count": 52,
   "metadata": {},
   "outputs": [
    {
     "data": {
      "text/plain": [
       "<matplotlib.image.AxesImage at 0x13fb67c88>"
      ]
     },
     "execution_count": 52,
     "metadata": {},
     "output_type": "execute_result"
    },
    {
     "data": {
      "image/png": "[encoded data removed]",
      "text/plain": [
       "<Figure size 432x288 with 1 Axes>"
      ]
     },
     "metadata": {
      "needs_background": "light"
     },
     "output_type": "display_data"
    }
   ],
   "source": [
    "k = np.int(mask[mask > 50].shape[0] / (mask.shape[0] * mask.shape[1]) * 50)\n",
    "\n",
    "ksize = (k, k)\n",
    "\n",
    "kernel = cv2.getStructuringElement(cv2.MORPH_ELLIPSE, ksize)\n",
    "\n",
    "dil = cv2.dilate(edge, kernel)\n",
    "\n",
    "plt.imshow(dil)"
   ]
  },
  {
   "cell_type": "code",
   "execution_count": null,
   "metadata": {},
   "outputs": [],
   "source": []
  }
 ],
 "metadata": {
  "kernelspec": {
   "display_name": "Python 3",
   "language": "python",
   "name": "python3"
  },
  "language_info": {
   "codemirror_mode": {
    "name": "ipython",
    "version": 3
   },
   "file_extension": ".py",
   "mimetype": "text/x-python",
   "name": "python",
   "nbconvert_exporter": "python",
   "pygments_lexer": "ipython3",
   "version": "3.6.8"
  }
 },
 "nbformat": 4,
 "nbformat_minor": 2
}
