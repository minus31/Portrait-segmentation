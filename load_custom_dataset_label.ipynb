{
 "cells": [
  {
   "cell_type": "markdown",
   "metadata": {},
   "source": [
    "### Custom data resizing logic\n",
    "\n",
    " - before upload to LabelBox "
   ]
  },
  {
   "cell_type": "code",
   "execution_count": 121,
   "metadata": {},
   "outputs": [],
   "source": [
    "import cv2\n",
    "import os"
   ]
  },
  {
   "cell_type": "code",
   "execution_count": 122,
   "metadata": {},
   "outputs": [],
   "source": [
    "data_path = \"../../AdditionalData/2차/\"\n",
    "target_path = \"../../new_add/\"\n",
    "files = [os.path.join(data_path, f) for f in os.listdir(data_path) if 'JPG' in f] "
   ]
  },
  {
   "cell_type": "code",
   "execution_count": 124,
   "metadata": {},
   "outputs": [],
   "source": [
    "for f in files:\n",
    "    img = cv2.imread(f, cv2.IMREAD_COLOR)\n",
    "    img = cv2.resize(img, (1570, 1570))\n",
    "    \n",
    "    cv2.imwrite(os.path.join(target_path, f.split(\"/\")[-1]), img)\n",
    "    "
   ]
  },
  {
   "cell_type": "code",
   "execution_count": null,
   "metadata": {},
   "outputs": [],
   "source": []
  },
  {
   "cell_type": "code",
   "execution_count": null,
   "metadata": {},
   "outputs": [],
   "source": []
  },
  {
   "cell_type": "markdown",
   "metadata": {},
   "source": [
    "## From LabelBox Lable JSON \n",
    "\n",
    " - Load mask image from json"
   ]
  },
  {
   "cell_type": "code",
   "execution_count": 90,
   "metadata": {},
   "outputs": [],
   "source": [
    "import os \n",
    "import sys\n",
    "import numpy as np\n",
    "import requests\n",
    "import json\n",
    "from PIL import Image \n",
    "from io import BytesIO \n",
    "from functools import reduce\n",
    "import cv2"
   ]
  },
  {
   "cell_type": "code",
   "execution_count": 102,
   "metadata": {},
   "outputs": [],
   "source": [
    "def download(url, file_name):\n",
    "\n",
    "    with open(file_name, 'wb') as handle:\n",
    "        response = requests.get(url, stream=True)\n",
    "\n",
    "        if not response.ok:\n",
    "            print(response)\n",
    "\n",
    "        for block in response.iter_content(1024):\n",
    "            if not block:\n",
    "                break\n",
    "            handle.write(block)\n",
    "    \n",
    "\n",
    "def get_img_from_URL(url):\n",
    "    response = requests.get(url)\n",
    "    img = Image.open(BytesIO(response.content))\n",
    "    img = np.array(img)[:,:,:-1]\n",
    "    return img\n",
    "\n",
    "def combine_objects(objects):\n",
    "    imgs = [] \n",
    "    for obj in objects:\n",
    "        img_url = obj[\"instanceURI\"]\n",
    "        img = get_img_from_URL(img_url)\n",
    "        imgs.append(img)\n",
    "    return reduce(lambda x, y: np.clip((x/1. + y/1.), 0, 255), imgs)"
   ]
  },
  {
   "cell_type": "code",
   "execution_count": 103,
   "metadata": {},
   "outputs": [],
   "source": [
    "json_path = './dataset/Custom/export-2020-01-02T09_57_01.332Z.json'\n",
    "mask_path = \"./dataset/Custom/mask/\""
   ]
  },
  {
   "cell_type": "code",
   "execution_count": 104,
   "metadata": {},
   "outputs": [],
   "source": [
    "with open(json_path, 'r') as f:\n",
    "    labels = json.load(f)"
   ]
  },
  {
   "cell_type": "code",
   "execution_count": 107,
   "metadata": {},
   "outputs": [],
   "source": [
    "for label in labels:\n",
    "    if len(label[\"Label\"][\"objects\"]) > 1:\n",
    "        combined_img = combine_objects(label[\"Label\"][\"objects\"])\n",
    "        filename = os.path.join(mask_path, label[\"External ID\"])\n",
    "        cv2.imwrite(filename, combined_img)\n",
    "    else: \n",
    "        img_url = label[\"Label\"][\"objects\"][0][\"instanceURI\"]\n",
    "        filename = os.path.join(mask_path, label[\"External ID\"])\n",
    "        download(img_url, filename)\n",
    "        "
   ]
  },
  {
   "cell_type": "code",
   "execution_count": null,
   "metadata": {},
   "outputs": [],
   "source": []
  },
  {
   "cell_type": "code",
   "execution_count": null,
   "metadata": {},
   "outputs": [],
   "source": []
  }
 ],
 "metadata": {
  "kernelspec": {
   "display_name": "Python 3",
   "language": "python",
   "name": "python3"
  },
  "language_info": {
   "codemirror_mode": {
    "name": "ipython",
    "version": 3
   },
   "file_extension": ".py",
   "mimetype": "text/x-python",
   "name": "python",
   "nbconvert_exporter": "python",
   "pygments_lexer": "ipython3",
   "version": "3.6.8"
  }
 },
 "nbformat": 4,
 "nbformat_minor": 2
}
