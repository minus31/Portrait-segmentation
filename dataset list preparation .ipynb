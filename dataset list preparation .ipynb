{
 "cells": [
  {
   "cell_type": "markdown",
   "metadata": {},
   "source": [
    "### dataset \n",
    "\n",
    " - "
   ]
  },
  {
   "cell_type": "code",
   "execution_count": 2,
   "metadata": {},
   "outputs": [],
   "source": [
    "import numpy as np \n",
    "import os"
   ]
  },
  {
   "cell_type": "code",
   "execution_count": 9,
   "metadata": {},
   "outputs": [],
   "source": [
    "blank_path = \"./dataset/BlankDataset/\""
   ]
  },
  {
   "cell_type": "code",
   "execution_count": 11,
   "metadata": {},
   "outputs": [],
   "source": [
    "blankfiles = [os.path.join(blank_path, f) for f in os.listdir(blank_path) if \"JPG\" in f]"
   ]
  },
  {
   "cell_type": "code",
   "execution_count": 13,
   "metadata": {},
   "outputs": [
    {
     "data": {
      "text/plain": [
       "['./dataset/BlankDataset/IMG_3904.JPG',\n",
       " './dataset/BlankDataset/IMG_3910.JPG',\n",
       " './dataset/BlankDataset/IMG_3870.JPG',\n",
       " './dataset/BlankDataset/IMG_3864.JPG',\n",
       " './dataset/BlankDataset/IMG_3858.JPG',\n",
       " './dataset/BlankDataset/IMG_3859.JPG',\n",
       " './dataset/BlankDataset/IMG_3865.JPG',\n",
       " './dataset/BlankDataset/IMG_3871.JPG',\n",
       " './dataset/BlankDataset/IMG_3911.JPG',\n",
       " './dataset/BlankDataset/IMG_3905.JPG',\n",
       " './dataset/BlankDataset/IMG_3913.JPG',\n",
       " './dataset/BlankDataset/IMG_3907.JPG',\n",
       " './dataset/BlankDataset/IMG_3867.JPG',\n",
       " './dataset/BlankDataset/IMG_3873.JPG',\n",
       " './dataset/BlankDataset/IMG_3898.JPG',\n",
       " './dataset/BlankDataset/IMG_3899.JPG',\n",
       " './dataset/BlankDataset/IMG_3872.JPG',\n",
       " './dataset/BlankDataset/IMG_3866.JPG',\n",
       " './dataset/BlankDataset/IMG_3906.JPG',\n",
       " './dataset/BlankDataset/IMG_3912.JPG',\n",
       " './dataset/BlankDataset/IMG_3916.JPG',\n",
       " './dataset/BlankDataset/IMG_3902.JPG',\n",
       " './dataset/BlankDataset/IMG_3862.JPG',\n",
       " './dataset/BlankDataset/IMG_3876.JPG',\n",
       " './dataset/BlankDataset/IMG_3889.JPG',\n",
       " './dataset/BlankDataset/IMG_3888.JPG',\n",
       " './dataset/BlankDataset/IMG_3877.JPG',\n",
       " './dataset/BlankDataset/IMG_3863.JPG',\n",
       " './dataset/BlankDataset/IMG_3903.JPG',\n",
       " './dataset/BlankDataset/IMG_3917.JPG',\n",
       " './dataset/BlankDataset/IMG_3929.JPG',\n",
       " './dataset/BlankDataset/IMG_3901.JPG',\n",
       " './dataset/BlankDataset/IMG_3915.JPG',\n",
       " './dataset/BlankDataset/IMG_3849.JPG',\n",
       " './dataset/BlankDataset/IMG_3875.JPG',\n",
       " './dataset/BlankDataset/IMG_3861.JPG',\n",
       " './dataset/BlankDataset/IMG_3860.JPG',\n",
       " './dataset/BlankDataset/IMG_3874.JPG',\n",
       " './dataset/BlankDataset/IMG_3848.JPG',\n",
       " './dataset/BlankDataset/IMG_3914.JPG',\n",
       " './dataset/BlankDataset/IMG_3900.JPG',\n",
       " './dataset/BlankDataset/IMG_3928.JPG',\n",
       " './dataset/BlankDataset/IMG_3783.JPG',\n",
       " './dataset/BlankDataset/IMG_3797.JPG',\n",
       " './dataset/BlankDataset/IMG_3813.JPG',\n",
       " './dataset/BlankDataset/IMG_3807.JPG',\n",
       " './dataset/BlankDataset/IMG_3806.JPG',\n",
       " './dataset/BlankDataset/IMG_3812.JPG',\n",
       " './dataset/BlankDataset/IMG_3769.JPG',\n",
       " './dataset/BlankDataset/IMG_3796.JPG',\n",
       " './dataset/BlankDataset/IMG_3782.JPG',\n",
       " './dataset/BlankDataset/IMG_3794.JPG',\n",
       " './dataset/BlankDataset/IMG_3780.JPG',\n",
       " './dataset/BlankDataset/IMG_3836 오전 11.59.41.JPG',\n",
       " './dataset/BlankDataset/IMG_3804.JPG',\n",
       " './dataset/BlankDataset/IMG_3838.JPG',\n",
       " './dataset/BlankDataset/IMG_3839.JPG',\n",
       " './dataset/BlankDataset/IMG_3811.JPG',\n",
       " './dataset/BlankDataset/IMG_3805.JPG',\n",
       " './dataset/BlankDataset/IMG_3781.JPG',\n",
       " './dataset/BlankDataset/IMG_3795.JPG',\n",
       " './dataset/BlankDataset/IMG_3791.JPG',\n",
       " './dataset/BlankDataset/IMG_3785.JPG',\n",
       " './dataset/BlankDataset/IMG_3829.JPG',\n",
       " './dataset/BlankDataset/IMG_3801.JPG',\n",
       " './dataset/BlankDataset/IMG_3815.JPG',\n",
       " './dataset/BlankDataset/IMG_3814.JPG',\n",
       " './dataset/BlankDataset/IMG_3800.JPG',\n",
       " './dataset/BlankDataset/IMG_3828.JPG',\n",
       " './dataset/BlankDataset/IMG_3784.JPG',\n",
       " './dataset/BlankDataset/IMG_3790.JPG',\n",
       " './dataset/BlankDataset/IMG_3786.JPG',\n",
       " './dataset/BlankDataset/IMG_3792.JPG',\n",
       " './dataset/BlankDataset/IMG_3779.JPG',\n",
       " './dataset/BlankDataset/IMG_3816.JPG',\n",
       " './dataset/BlankDataset/IMG_3802.JPG',\n",
       " './dataset/BlankDataset/IMG_3803.JPG',\n",
       " './dataset/BlankDataset/IMG_3817.JPG',\n",
       " './dataset/BlankDataset/IMG_3778.JPG',\n",
       " './dataset/BlankDataset/IMG_3793.JPG',\n",
       " './dataset/BlankDataset/IMG_3787.JPG',\n",
       " './dataset/BlankDataset/IMG_3775.JPG',\n",
       " './dataset/BlankDataset/IMG_3832.JPG',\n",
       " './dataset/BlankDataset/IMG_3826.JPG',\n",
       " './dataset/BlankDataset/IMG_3827.JPG',\n",
       " './dataset/BlankDataset/IMG_3833.JPG',\n",
       " './dataset/BlankDataset/IMG_3774.JPG',\n",
       " './dataset/BlankDataset/IMG_3789.JPG',\n",
       " './dataset/BlankDataset/IMG_3776.JPG',\n",
       " './dataset/BlankDataset/IMG_3825.JPG',\n",
       " './dataset/BlankDataset/IMG_3831.JPG',\n",
       " './dataset/BlankDataset/IMG_3819.JPG',\n",
       " './dataset/BlankDataset/IMG_3818.JPG',\n",
       " './dataset/BlankDataset/IMG_3830.JPG',\n",
       " './dataset/BlankDataset/IMG_3824.JPG',\n",
       " './dataset/BlankDataset/IMG_3777.JPG',\n",
       " './dataset/BlankDataset/IMG_3788.JPG',\n",
       " './dataset/BlankDataset/IMG_3798.JPG',\n",
       " './dataset/BlankDataset/IMG_3773.JPG',\n",
       " './dataset/BlankDataset/IMG_3808.JPG',\n",
       " './dataset/BlankDataset/IMG_3820.JPG',\n",
       " './dataset/BlankDataset/IMG_3834.JPG',\n",
       " './dataset/BlankDataset/IMG_3835.JPG',\n",
       " './dataset/BlankDataset/IMG_3821.JPG',\n",
       " './dataset/BlankDataset/IMG_3809.JPG',\n",
       " './dataset/BlankDataset/IMG_3766.JPG',\n",
       " './dataset/BlankDataset/IMG_3772.JPG',\n",
       " './dataset/BlankDataset/IMG_3799.JPG',\n",
       " './dataset/BlankDataset/IMG_3770.JPG',\n",
       " './dataset/BlankDataset/IMG_3837.JPG',\n",
       " './dataset/BlankDataset/IMG_3823.JPG',\n",
       " './dataset/BlankDataset/IMG_3822.JPG',\n",
       " './dataset/BlankDataset/IMG_3771.JPG',\n",
       " './dataset/BlankDataset/IMG_3765.JPG',\n",
       " './dataset/BlankDataset/IMG_3764 오전 11.59.41.JPG',\n",
       " './dataset/BlankDataset/IMG_3925.JPG',\n",
       " './dataset/BlankDataset/IMG_3931.JPG',\n",
       " './dataset/BlankDataset/IMG_3919.JPG',\n",
       " './dataset/BlankDataset/IMG_3851.JPG',\n",
       " './dataset/BlankDataset/IMG_3845.JPG',\n",
       " './dataset/BlankDataset/IMG_3879.JPG',\n",
       " './dataset/BlankDataset/IMG_3892.JPG',\n",
       " './dataset/BlankDataset/IMG_3886.JPG',\n",
       " './dataset/BlankDataset/IMG_3887.JPG',\n",
       " './dataset/BlankDataset/IMG_3893.JPG',\n",
       " './dataset/BlankDataset/IMG_3878.JPG',\n",
       " './dataset/BlankDataset/IMG_3844.JPG',\n",
       " './dataset/BlankDataset/IMG_3850.JPG',\n",
       " './dataset/BlankDataset/IMG_3918.JPG',\n",
       " './dataset/BlankDataset/IMG_3930.JPG',\n",
       " './dataset/BlankDataset/IMG_3924.JPG',\n",
       " './dataset/BlankDataset/IMG_3932.JPG',\n",
       " './dataset/BlankDataset/IMG_3926.JPG',\n",
       " './dataset/BlankDataset/IMG_3846.JPG',\n",
       " './dataset/BlankDataset/IMG_3852.JPG',\n",
       " './dataset/BlankDataset/IMG_3885.JPG',\n",
       " './dataset/BlankDataset/IMG_3891.JPG',\n",
       " './dataset/BlankDataset/IMG_3890.JPG',\n",
       " './dataset/BlankDataset/IMG_3884.JPG',\n",
       " './dataset/BlankDataset/IMG_3853.JPG',\n",
       " './dataset/BlankDataset/IMG_3847.JPG',\n",
       " './dataset/BlankDataset/IMG_3927.JPG',\n",
       " './dataset/BlankDataset/IMG_3933.JPG',\n",
       " './dataset/BlankDataset/IMG_3923.JPG',\n",
       " './dataset/BlankDataset/IMG_3843.JPG',\n",
       " './dataset/BlankDataset/IMG_3857.JPG',\n",
       " './dataset/BlankDataset/IMG_3894.JPG',\n",
       " './dataset/BlankDataset/IMG_3895.JPG',\n",
       " './dataset/BlankDataset/IMG_3856.JPG',\n",
       " './dataset/BlankDataset/IMG_3842.JPG',\n",
       " './dataset/BlankDataset/IMG_3922.JPG',\n",
       " './dataset/BlankDataset/IMG_3908.JPG',\n",
       " './dataset/BlankDataset/IMG_3920.JPG',\n",
       " './dataset/BlankDataset/IMG_3868.JPG',\n",
       " './dataset/BlankDataset/IMG_3854.JPG',\n",
       " './dataset/BlankDataset/IMG_3840.JPG',\n",
       " './dataset/BlankDataset/IMG_3897.JPG',\n",
       " './dataset/BlankDataset/IMG_3883.JPG',\n",
       " './dataset/BlankDataset/IMG_3882.JPG',\n",
       " './dataset/BlankDataset/IMG_3896.JPG',\n",
       " './dataset/BlankDataset/IMG_3841.JPG',\n",
       " './dataset/BlankDataset/IMG_3855.JPG',\n",
       " './dataset/BlankDataset/IMG_3869.JPG',\n",
       " './dataset/BlankDataset/IMG_3921.JPG',\n",
       " './dataset/BlankDataset/IMG_3909.JPG']"
      ]
     },
     "execution_count": 13,
     "metadata": {},
     "output_type": "execute_result"
    }
   ],
   "source": [
    "blankfiles"
   ]
  },
  {
   "cell_type": "code",
   "execution_count": 14,
   "metadata": {},
   "outputs": [],
   "source": [
    "k15 = np.load(\"./dataset/img_paths_with_supervisely_nosmallobject_k15.npy\")"
   ]
  },
  {
   "cell_type": "code",
   "execution_count": 22,
   "metadata": {},
   "outputs": [
    {
     "data": {
      "text/plain": [
       "array(['./dataset/selfie/testing/00001.png',\n",
       "       './dataset/selfie/testing/00002.png',\n",
       "       './dataset/selfie/testing/00003.png', ...,\n",
       "       './dataset/Supervisely_person_dataset/ds9/img/pexels-photo-884423.png',\n",
       "       './dataset/Supervisely_person_dataset/ds9/img/pexels-photo-868548.png',\n",
       "       './dataset/Supervisely_person_dataset/ds9/img/pexels-photo-867524.png'],\n",
       "      dtype='<U135')"
      ]
     },
     "execution_count": 22,
     "metadata": {},
     "output_type": "execute_result"
    }
   ],
   "source": [
    "k15"
   ]
  },
  {
   "cell_type": "code",
   "execution_count": 18,
   "metadata": {},
   "outputs": [],
   "source": [
    "k15_withblank = np.concatenate((k15, np.array(blankfiles)))"
   ]
  },
  {
   "cell_type": "code",
   "execution_count": 21,
   "metadata": {},
   "outputs": [
    {
     "data": {
      "text/plain": [
       "array(['./dataset/selfie/testing/00001.png',\n",
       "       './dataset/selfie/testing/00002.png',\n",
       "       './dataset/selfie/testing/00003.png', ...,\n",
       "       './dataset/BlankDataset/IMG_3869.JPG',\n",
       "       './dataset/BlankDataset/IMG_3921.JPG',\n",
       "       './dataset/BlankDataset/IMG_3909.JPG'], dtype='<U135')"
      ]
     },
     "execution_count": 21,
     "metadata": {},
     "output_type": "execute_result"
    }
   ],
   "source": [
    "k15_withblank"
   ]
  },
  {
   "cell_type": "code",
   "execution_count": 23,
   "metadata": {},
   "outputs": [],
   "source": [
    "np.save(\"./dataset/img_paths_with_supervisely_nosmallobject_k15_withBlank.npy\", k15_withblank)"
   ]
  },
  {
   "cell_type": "code",
   "execution_count": null,
   "metadata": {},
   "outputs": [],
   "source": []
  },
  {
   "cell_type": "markdown",
   "metadata": {},
   "source": [
    "### Custom dataset appending"
   ]
  },
  {
   "cell_type": "code",
   "execution_count": 41,
   "metadata": {},
   "outputs": [],
   "source": [
    "k15_withBlank = np.load(\"./dataset/img_paths_with_supervisely_nosmallobject_k15_withBlank.npy\")"
   ]
  },
  {
   "cell_type": "code",
   "execution_count": 42,
   "metadata": {},
   "outputs": [],
   "source": [
    "custom_path = './dataset/Custom/img'"
   ]
  },
  {
   "cell_type": "code",
   "execution_count": 43,
   "metadata": {},
   "outputs": [],
   "source": [
    "custom_files = [os.path.join(custom_path, f) for f in os.listdir(custom_path) if 'jpg' in f]"
   ]
  },
  {
   "cell_type": "code",
   "execution_count": 44,
   "metadata": {},
   "outputs": [],
   "source": [
    "k15_blank_custom = np.concatenate((k15_withBlank, np.array(custom_files)))"
   ]
  },
  {
   "cell_type": "code",
   "execution_count": 46,
   "metadata": {},
   "outputs": [
    {
     "data": {
      "text/plain": [
       "4233"
      ]
     },
     "execution_count": 46,
     "metadata": {},
     "output_type": "execute_result"
    }
   ],
   "source": [
    "len(k15_blank_custom)"
   ]
  },
  {
   "cell_type": "code",
   "execution_count": 47,
   "metadata": {},
   "outputs": [],
   "source": [
    "np.save(\"./dataset/img_paths_with_supervisely_nosmallobject_k15_withBlank_and_Custom.npy\", k15_blank_custom)"
   ]
  }
 ],
 "metadata": {
  "kernelspec": {
   "display_name": "Python 3",
   "language": "python",
   "name": "python3"
  },
  "language_info": {
   "codemirror_mode": {
    "name": "ipython",
    "version": 3
   },
   "file_extension": ".py",
   "mimetype": "text/x-python",
   "name": "python",
   "nbconvert_exporter": "python",
   "pygments_lexer": "ipython3",
   "version": "3.6.8"
  }
 },
 "nbformat": 4,
 "nbformat_minor": 2
}
