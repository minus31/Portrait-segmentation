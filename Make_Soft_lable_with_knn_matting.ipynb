{
 "cells": [
  {
   "cell_type": "markdown",
   "metadata": {},
   "source": [
    "> In this project I named binary label images to mask and soft label(0 ~ 1) to alpha"
   ]
  },
  {
   "cell_type": "code",
   "execution_count": 1,
   "metadata": {},
   "outputs": [],
   "source": [
    "import numpy as np\n",
    "import sklearn.neighbors\n",
    "import scipy.sparse\n",
    "import warnings\n",
    "\n",
    "import matplotlib.pyplot as plt\n",
    "import scipy.misc\n",
    "\n",
    "import cv2\n",
    "import os"
   ]
  },
  {
   "cell_type": "code",
   "execution_count": null,
   "metadata": {},
   "outputs": [],
   "source": []
  },
  {
   "cell_type": "code",
   "execution_count": 2,
   "metadata": {},
   "outputs": [],
   "source": [
    "# borrow from 'https://github.com/MarcoForte/knn-matting'\n",
    "# nn = 10\n",
    "def knn_matte(img, trimap, mylambda=100):\n",
    "    \n",
    "    [m, n, c] = img.shape\n",
    "    \n",
    "    img, trimap = img / 255.0, trimap / 255.0\n",
    "    \n",
    "    foreground = (trimap > 0.99).astype(int)\n",
    "    background = (trimap < 0.01).astype(int)\n",
    "    print(foreground.shape)\n",
    "    print(background.shape)\n",
    "    \n",
    "    all_constraints = foreground + background\n",
    "    print(all_constraints.shape)\n",
    "\n",
    "    print('Finding nearest neighbors')\n",
    "    \n",
    "    a, b = np.unravel_index(np.arange(m*n), (m, n))\n",
    "    print(\"a\", a)\n",
    "    print(\"b\", b)\n",
    "    \n",
    "    feature_vec = np.append(np.transpose(img.reshape(m*n,c)), [a, b]/np.sqrt(m*m + n*n), axis=0).T\n",
    "    \n",
    "    nbrs = sklearn.neighbors.NearestNeighbors(n_neighbors=10).fit(feature_vec)\n",
    "    knns = nbrs.kneighbors(feature_vec)[1]\n",
    "    print(knns.shape)\n",
    "\n",
    "    # Compute Sparse A\n",
    "    print('Computing sparse A')\n",
    "    row_inds = np.repeat(np.arange(m*n), 10)\n",
    "    col_inds = knns.reshape(m*n*10)\n",
    "    \n",
    "    vals = 1 - np.linalg.norm(feature_vec[row_inds] - feature_vec[col_inds], axis=1)/(c+2)\n",
    "    A = scipy.sparse.coo_matrix((vals, (row_inds, col_inds)),shape=(m*n, m*n))\n",
    "\n",
    "    D_script = scipy.sparse.diags(np.ravel(A.sum(axis=1)))\n",
    "    \n",
    "    L = D_script-A\n",
    "#     D = scipy.sparse.diags(np.ravel(all_constraints[:,:, 0]))\n",
    "    D = scipy.sparse.diags(np.ravel(all_constraints[:,:]))\n",
    "#     v = np.ravel(foreground[:,:,0])\n",
    "    v = np.ravel(foreground[:,:])\n",
    "    c = 2*mylambda*np.transpose(v)\n",
    "    H = 2*(L + mylambda*D)\n",
    "\n",
    "    print('Solving linear system for alpha')\n",
    "    warnings.filterwarnings('error')\n",
    "    alpha = []\n",
    "    try:\n",
    "        alpha = np.minimum(np.maximum(scipy.sparse.linalg.spsolve(H, c), 0), 1).reshape(m, n)\n",
    "    except Warning:\n",
    "        x = scipy.sparse.linalg.lsqr(H, c)\n",
    "        alpha = np.minimum(np.maximum(x[0], 0), 1).reshape(m, n)\n",
    "    return alpha"
   ]
  },
  {
   "cell_type": "code",
   "execution_count": 3,
   "metadata": {},
   "outputs": [],
   "source": [
    "def load_img_mask_pair(img_path):\n",
    "    \n",
    "    mask_path = img_path.split(\".p\")[0] + \"_matte.png\"\n",
    "    \n",
    "    if 'Supervisely' in mask_path:\n",
    "        \n",
    "        mask_path = mask_path.replace(\"/img/\", \"/masks_machine/\")\n",
    "        mask_path = mask_path.replace(\".jpeg\", \"\")\n",
    "        \n",
    "    img = cv2.imread(img_path, cv2.IMREAD_COLOR)\n",
    "    mask = cv2.imread(mask_path, cv2.IMREAD_GRAYSCALE)\n",
    "    \n",
    "    return img, mask * 255"
   ]
  },
  {
   "cell_type": "code",
   "execution_count": 4,
   "metadata": {},
   "outputs": [],
   "source": [
    "def make_trimap(mask, size=(10, 10)):\n",
    "\n",
    "    kernel = cv2.getStructuringElement(cv2.MORPH_ELLIPSE, size)\n",
    "    mask = mask / 255.\n",
    "\n",
    "    dilated = cv2.dilate(mask, kernel, iterations=1) * 255\n",
    "    eroded = cv2.erode(mask, kernel, iterations=1) * 255\n",
    "\n",
    "    cnt1 = len(np.where(mask >= 0)[0])\n",
    "    cnt2 = len(np.where(mask == 0)[0])\n",
    "    cnt3 = len(np.where(mask == 1)[0])\n",
    "    \n",
    "    #print(\"all:{} bg:{} fg:{}\".format(cnt1, cnt2, cnt3))\n",
    "    \n",
    "    assert(cnt1 == cnt2 + cnt3)\n",
    "    \n",
    "    cnt1 = len(np.where(dilated >= 0)[0])\n",
    "    cnt2 = len(np.where(dilated == 0)[0])\n",
    "    cnt3 = len(np.where(dilated == 255)[0])\n",
    "    \n",
    "    #print(\"all:{} bg:{} fg:{}\".format(cnt1, cnt2, cnt3))\n",
    "    assert(cnt1 == cnt2 + cnt3)\n",
    "\n",
    "    cnt1 = len(np.where(eroded >= 0)[0])\n",
    "    cnt2 = len(np.where(eroded == 0)[0])\n",
    "    cnt3 = len(np.where(eroded == 255)[0])\n",
    "    #print(\"all:{} bg:{} fg:{}\".format(cnt1, cnt2, cnt3))\n",
    "    assert(cnt1 == cnt2 + cnt3)\n",
    "\n",
    "    trimap = dilated.copy()\n",
    "    \n",
    "    trimap[((dilated == 255) & (eroded == 0))] = 128\n",
    "\n",
    "    return trimap"
   ]
  },
  {
   "cell_type": "code",
   "execution_count": 5,
   "metadata": {},
   "outputs": [],
   "source": [
    "def save_alpha(target_name, alpha):\n",
    "\n",
    "    cv2.imwrite(target_name, alpha*255)\n",
    "    \n",
    "    return 1 "
   ]
  },
  {
   "cell_type": "markdown",
   "metadata": {},
   "source": [
    "# Actual Logic"
   ]
  },
  {
   "cell_type": "code",
   "execution_count": 6,
   "metadata": {},
   "outputs": [],
   "source": [
    "DATASET_BASE = \"./dataset/Supervisely_person_dataset\""
   ]
  },
  {
   "cell_type": "code",
   "execution_count": 7,
   "metadata": {},
   "outputs": [],
   "source": [
    "dslist = [ds for ds in os.listdir(DATASET_BASE) if \".\" not in ds]"
   ]
  },
  {
   "cell_type": "code",
   "execution_count": null,
   "metadata": {},
   "outputs": [
    {
     "name": "stdout",
     "output_type": "stream",
     "text": [
      "./dataset/Supervisely_person_dataset/ds6/alpha\n",
      "load\n",
      "trimap\n",
      "(800, 800)\n",
      "(800, 800)\n",
      "(800, 800)\n",
      "Finding nearest neighbors\n",
      "a [  0   0   0 ... 799 799 799]\n",
      "b [  0   1   2 ... 797 798 799]\n",
      "(640000, 10)\n",
      "Computing sparse A\n",
      "Solving linear system for alpha\n",
      "matte\n"
     ]
    },
    {
     "data": {
      "image/png": "[encoded data removed]",
      "text/plain": [
       "<Figure size 432x288 with 1 Axes>"
      ]
     },
     "metadata": {
      "needs_background": "light"
     },
     "output_type": "display_data"
    },
    {
     "name": "stdout",
     "output_type": "stream",
     "text": [
      "./dataset/Supervisely_person_dataset/ds6/alpha/pexels-photo-547593.jpeg\n",
      "load\n",
      "trimap\n",
      "(800, 534)\n",
      "(800, 534)\n",
      "(800, 534)\n",
      "Finding nearest neighbors\n",
      "a [  0   0   0 ... 799 799 799]\n",
      "b [  0   1   2 ... 531 532 533]\n",
      "(427200, 10)\n",
      "Computing sparse A\n",
      "Solving linear system for alpha\n",
      "matte\n"
     ]
    },
    {
     "data": {
      "image/png": "[encoded data removed]",
      "text/plain": [
       "<Figure size 432x288 with 1 Axes>"
      ]
     },
     "metadata": {
      "needs_background": "light"
     },
     "output_type": "display_data"
    },
    {
     "name": "stdout",
     "output_type": "stream",
     "text": [
      "./dataset/Supervisely_person_dataset/ds6/alpha/pexels-photo-395245.jpeg\n",
      "load\n",
      "trimap\n",
      "(800, 1200)\n",
      "(800, 1200)\n",
      "(800, 1200)\n",
      "Finding nearest neighbors\n",
      "a [  0   0   0 ... 799 799 799]\n",
      "b [   0    1    2 ... 1197 1198 1199]\n",
      "(960000, 10)\n",
      "Computing sparse A\n",
      "Solving linear system for alpha\n"
     ]
    }
   ],
   "source": [
    "for ds in dslist:\n",
    "    \n",
    "    img_dir = os.path.join(DATASET_BASE, ds, \"img\")\n",
    "    \n",
    "    alpha_dir = os.path.join(DATASET_BASE, ds, \"alpha\")\n",
    "    print(alpha_dir)\n",
    "\n",
    "    if not os.path.exists(alpha_dir):\n",
    "        os.mkdir(alpha_dir)\n",
    "        \n",
    "    img_list = [os.path.join(DATASET_BASE, ds, \"img\", i) for i in os.listdir(img_dir)]\n",
    "    \n",
    "    for img_path in img_list:\n",
    "        \n",
    "        img, mask = load_img_mask_pair(img_path)\n",
    "        print(\"load\")\n",
    "        trimap = make_trimap(mask)\n",
    "        print(\"trimap\")\n",
    "        alpha = knn_matte(img, trimap)\n",
    "        print('matte')\n",
    "        \n",
    "        plt.imshow(alpha, cmap='gray')\n",
    "        plt.show()\n",
    "        \n",
    "        alpha_path = img_path.replace(\"/img/\", \"/alpha/\")\n",
    "\n",
    "        save_alpha(alpha_path, alpha)\n",
    "        print(alpha_path)\n"
   ]
  }
 ],
 "metadata": {
  "kernelspec": {
   "display_name": "Python 3",
   "language": "python",
   "name": "python3"
  },
  "language_info": {
   "codemirror_mode": {
    "name": "ipython",
    "version": 3
   },
   "file_extension": ".py",
   "mimetype": "text/x-python",
   "name": "python",
   "nbconvert_exporter": "python",
   "pygments_lexer": "ipython3",
   "version": "3.6.8"
  }
 },
 "nbformat": 4,
 "nbformat_minor": 2
}
