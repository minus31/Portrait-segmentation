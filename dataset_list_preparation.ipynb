{
 "cells": [
  {
   "cell_type": "markdown",
   "metadata": {},
   "source": [
    "### dataset \n",
    "\n",
    " - "
   ]
  },
  {
   "cell_type": "code",
   "execution_count": 3,
   "metadata": {},
   "outputs": [],
   "source": [
    "import numpy as np \n",
    "import os"
   ]
  },
  {
   "cell_type": "code",
   "execution_count": 4,
   "metadata": {},
   "outputs": [],
   "source": [
    "blank_path = \"./dataset/BlankDataset/\""
   ]
  },
  {
   "cell_type": "code",
   "execution_count": 5,
   "metadata": {},
   "outputs": [],
   "source": [
    "blankfiles = [os.path.join(blank_path, f) for f in os.listdir(blank_path) if \"JPG\" in f]"
   ]
  },
  {
   "cell_type": "code",
   "execution_count": 6,
   "metadata": {},
   "outputs": [
    {
     "name": "stdout",
     "output_type": "stream",
     "text": [
      "192\n"
     ]
    }
   ],
   "source": [
    "print(len(blankfiles))"
   ]
  },
  {
   "cell_type": "code",
   "execution_count": 8,
   "metadata": {},
   "outputs": [],
   "source": [
    "k15 = np.load(\"./dataset/img_paths_with_supervisely_nosmallobject_k15.npy\")"
   ]
  },
  {
   "cell_type": "code",
   "execution_count": 7,
   "metadata": {},
   "outputs": [
    {
     "data": {
      "text/plain": [
       "['./dataset/BlankDataset/IMG_3904.JPG',\n",
       " './dataset/BlankDataset/IMG_3910.JPG',\n",
       " './dataset/BlankDataset/IMG_3870.JPG',\n",
       " './dataset/BlankDataset/IMG_3864.JPG',\n",
       " './dataset/BlankDataset/IMG_3858.JPG',\n",
       " './dataset/BlankDataset/IMG_3859.JPG',\n",
       " './dataset/BlankDataset/IMG_3865.JPG',\n",
       " './dataset/BlankDataset/IMG_3871.JPG',\n",
       " './dataset/BlankDataset/35.3695988193_YfAMvptV_1.JPG',\n",
       " './dataset/BlankDataset/IMG_3911.JPG',\n",
       " './dataset/BlankDataset/IMG_3905.JPG',\n",
       " './dataset/BlankDataset/261.140288384648_20140617.JPG',\n",
       " './dataset/BlankDataset/IMG_3913.JPG',\n",
       " './dataset/BlankDataset/IMG_3907.JPG',\n",
       " './dataset/BlankDataset/IMG_3867.JPG',\n",
       " './dataset/BlankDataset/IMG_3873.JPG',\n",
       " './dataset/BlankDataset/IMG_3898.JPG',\n",
       " './dataset/BlankDataset/69.200907291548094639.JPG',\n",
       " './dataset/BlankDataset/IMG_3899.JPG',\n",
       " './dataset/BlankDataset/IMG_3872.JPG',\n",
       " './dataset/BlankDataset/IMG_3866.JPG',\n",
       " './dataset/BlankDataset/IMG_3906.JPG',\n",
       " './dataset/BlankDataset/IMG_3912.JPG',\n",
       " './dataset/BlankDataset/258.2040640939_W7Pe3Ixi_--S7301793.JPG',\n",
       " './dataset/BlankDataset/IMG_3916.JPG',\n",
       " './dataset/BlankDataset/IMG_3902.JPG',\n",
       " './dataset/BlankDataset/IMG_3862.JPG',\n",
       " './dataset/BlankDataset/IMG_3876.JPG',\n",
       " './dataset/BlankDataset/IMG_3889.JPG',\n",
       " './dataset/BlankDataset/617.TV%EA%B0%80%20%EC%97%86%EB%8A%94%20%EC%95%84%ED%8C%8C%ED%8A%B8%20%EA%B1%B0%EC%8B%A4%20%EC%9D%B8%ED%85%8C%EB%A6%AC%EC%96%B41%20(11).JPG',\n",
       " './dataset/BlankDataset/IMG_3888.JPG',\n",
       " './dataset/BlankDataset/IMG_3877.JPG',\n",
       " './dataset/BlankDataset/IMG_3863.JPG',\n",
       " './dataset/BlankDataset/IMG_3903.JPG',\n",
       " './dataset/BlankDataset/IMG_3917.JPG',\n",
       " './dataset/BlankDataset/IMG_3929.JPG',\n",
       " './dataset/BlankDataset/IMG_3901.JPG',\n",
       " './dataset/BlankDataset/IMG_3915.JPG',\n",
       " './dataset/BlankDataset/IMG_3849.JPG',\n",
       " './dataset/BlankDataset/IMG_3875.JPG',\n",
       " './dataset/BlankDataset/IMG_3861.JPG',\n",
       " './dataset/BlankDataset/202.lg_w15665447764863_%ED%81%AC%EA%B8%B0%EB%B3%80%ED%99%98_IMG_0106_%282%29.JPG',\n",
       " './dataset/BlankDataset/IMG_3860.JPG',\n",
       " './dataset/BlankDataset/IMG_3874.JPG',\n",
       " './dataset/BlankDataset/IMG_3848.JPG',\n",
       " './dataset/BlankDataset/108.06b7d5d9b5e6d989322501a637c12719.JPG',\n",
       " './dataset/BlankDataset/IMG_3914.JPG',\n",
       " './dataset/BlankDataset/IMG_3900.JPG',\n",
       " './dataset/BlankDataset/IMG_3928.JPG',\n",
       " './dataset/BlankDataset/IMG_3783.JPG',\n",
       " './dataset/BlankDataset/IMG_3797.JPG',\n",
       " './dataset/BlankDataset/IMG_3813.JPG',\n",
       " './dataset/BlankDataset/IMG_3807.JPG',\n",
       " './dataset/BlankDataset/IMG_3806.JPG',\n",
       " './dataset/BlankDataset/IMG_3812.JPG',\n",
       " './dataset/BlankDataset/IMG_3769.JPG',\n",
       " './dataset/BlankDataset/IMG_3796.JPG',\n",
       " './dataset/BlankDataset/16.2093112356_kAItX0KJ_EC82ACEBACB4EC8BA4-1.JPG',\n",
       " './dataset/BlankDataset/IMG_3782.JPG',\n",
       " './dataset/BlankDataset/482.lg_n15315570037812_%ED%81%AC%EA%B8%B0%EB%B3%80%ED%99%98_IMG_3144.JPG',\n",
       " './dataset/BlankDataset/IMG_3794.JPG',\n",
       " './dataset/BlankDataset/IMG_3780.JPG',\n",
       " './dataset/BlankDataset/IMG_3836 오전 11.59.41.JPG',\n",
       " './dataset/BlankDataset/IMG_3804.JPG',\n",
       " './dataset/BlankDataset/IMG_3838.JPG',\n",
       " './dataset/BlankDataset/IMG_3839.JPG',\n",
       " './dataset/BlankDataset/IMG_3811.JPG',\n",
       " './dataset/BlankDataset/IMG_3805.JPG',\n",
       " './dataset/BlankDataset/IMG_3781.JPG',\n",
       " './dataset/BlankDataset/IMG_3795.JPG',\n",
       " './dataset/BlankDataset/557.lg_w15665447878683_%ED%81%AC%EA%B8%B0%EB%B3%80%ED%99%98_IMG_0116.JPG',\n",
       " './dataset/BlankDataset/6.%EC%BA%90%EC%B9%98%EC%B9%B4%ED%8E%98_%EC%82%AC%EC%A7%84015%2820181029%29.JPG',\n",
       " './dataset/BlankDataset/492.e2efc13d89deb5da300e3ace77fe8d8c.JPG',\n",
       " './dataset/BlankDataset/IMG_3791.JPG',\n",
       " './dataset/BlankDataset/IMG_3785.JPG',\n",
       " './dataset/BlankDataset/IMG_3829.JPG',\n",
       " './dataset/BlankDataset/IMG_3801.JPG',\n",
       " './dataset/BlankDataset/IMG_3815.JPG',\n",
       " './dataset/BlankDataset/IMG_3814.JPG',\n",
       " './dataset/BlankDataset/IMG_3800.JPG',\n",
       " './dataset/BlankDataset/IMG_3828.JPG',\n",
       " './dataset/BlankDataset/IMG_3784.JPG',\n",
       " './dataset/BlankDataset/IMG_3790.JPG',\n",
       " './dataset/BlankDataset/IMG_3786.JPG',\n",
       " './dataset/BlankDataset/IMG_3792.JPG',\n",
       " './dataset/BlankDataset/IMG_3779.JPG',\n",
       " './dataset/BlankDataset/IMG_3816.JPG',\n",
       " './dataset/BlankDataset/IMG_3802.JPG',\n",
       " './dataset/BlankDataset/IMG_3803.JPG',\n",
       " './dataset/BlankDataset/IMG_3817.JPG',\n",
       " './dataset/BlankDataset/IMG_3778.JPG',\n",
       " './dataset/BlankDataset/IMG_3793.JPG',\n",
       " './dataset/BlankDataset/IMG_3787.JPG',\n",
       " './dataset/BlankDataset/514.TV%EA%B0%80%20%EC%97%86%EB%8A%94%20%EC%95%84%ED%8C%8C%ED%8A%B8%20%EA%B1%B0%EC%8B%A4%20%EC%9D%B8%ED%85%8C%EB%A6%AC%EC%96%B41%20(3).JPG',\n",
       " './dataset/BlankDataset/IMG_3775.JPG',\n",
       " './dataset/BlankDataset/IMG_3832.JPG',\n",
       " './dataset/BlankDataset/IMG_3826.JPG',\n",
       " './dataset/BlankDataset/IMG_3827.JPG',\n",
       " './dataset/BlankDataset/IMG_3833.JPG',\n",
       " './dataset/BlankDataset/IMG_3774.JPG',\n",
       " './dataset/BlankDataset/118.Photo.JPG',\n",
       " './dataset/BlankDataset/79.07489e4eacb44e128870b216d2292b42.JPG',\n",
       " './dataset/BlankDataset/IMG_3789.JPG',\n",
       " './dataset/BlankDataset/IMG_3776.JPG',\n",
       " './dataset/BlankDataset/IMG_3825.JPG',\n",
       " './dataset/BlankDataset/IMG_3831.JPG',\n",
       " './dataset/BlankDataset/IMG_3819.JPG',\n",
       " './dataset/BlankDataset/IMG_3818.JPG',\n",
       " './dataset/BlankDataset/IMG_3830.JPG',\n",
       " './dataset/BlankDataset/IMG_3824.JPG',\n",
       " './dataset/BlankDataset/IMG_3777.JPG',\n",
       " './dataset/BlankDataset/32.DSC06402.JPG',\n",
       " './dataset/BlankDataset/IMG_3788.JPG',\n",
       " './dataset/BlankDataset/IMG_3798.JPG',\n",
       " './dataset/BlankDataset/IMG_3773.JPG',\n",
       " './dataset/BlankDataset/744.t15582822059745_%ED%81%AC%EA%B8%B0%EB%B3%80%ED%99%98_IMG_0187.JPG',\n",
       " './dataset/BlankDataset/IMG_3808.JPG',\n",
       " './dataset/BlankDataset/IMG_3820.JPG',\n",
       " './dataset/BlankDataset/IMG_3834.JPG',\n",
       " './dataset/BlankDataset/41.DumboStreets1-934c6bb1af314a3481208eeb1511e450.JPG',\n",
       " './dataset/BlankDataset/IMG_3835.JPG',\n",
       " './dataset/BlankDataset/IMG_3821.JPG',\n",
       " './dataset/BlankDataset/IMG_3809.JPG',\n",
       " './dataset/BlankDataset/IMG_3766.JPG',\n",
       " './dataset/BlankDataset/IMG_3772.JPG',\n",
       " './dataset/BlankDataset/IMG_3799.JPG',\n",
       " './dataset/BlankDataset/724.t15582822104248_%ED%81%AC%EA%B8%B0%EB%B3%80%ED%99%98_IMG_0173.JPG',\n",
       " './dataset/BlankDataset/IMG_3770.JPG',\n",
       " './dataset/BlankDataset/IMG_3837.JPG',\n",
       " './dataset/BlankDataset/IMG_3823.JPG',\n",
       " './dataset/BlankDataset/766.lg_n15315570786178_%ED%81%AC%EA%B8%B0%EB%B3%80%ED%99%98_IMG_3048.JPG',\n",
       " './dataset/BlankDataset/IMG_3822.JPG',\n",
       " './dataset/BlankDataset/IMG_3771.JPG',\n",
       " './dataset/BlankDataset/IMG_3765.JPG',\n",
       " './dataset/BlankDataset/IMG_3764 오전 11.59.41.JPG',\n",
       " './dataset/BlankDataset/IMG_3925.JPG',\n",
       " './dataset/BlankDataset/IMG_3931.JPG',\n",
       " './dataset/BlankDataset/IMG_3919.JPG',\n",
       " './dataset/BlankDataset/IMG_3851.JPG',\n",
       " './dataset/BlankDataset/IMG_3845.JPG',\n",
       " './dataset/BlankDataset/IMG_3879.JPG',\n",
       " './dataset/BlankDataset/IMG_3892.JPG',\n",
       " './dataset/BlankDataset/IMG_3886.JPG',\n",
       " './dataset/BlankDataset/IMG_3887.JPG',\n",
       " './dataset/BlankDataset/IMG_3893.JPG',\n",
       " './dataset/BlankDataset/IMG_3878.JPG',\n",
       " './dataset/BlankDataset/IMG_3844.JPG',\n",
       " './dataset/BlankDataset/IMG_3850.JPG',\n",
       " './dataset/BlankDataset/IMG_3918.JPG',\n",
       " './dataset/BlankDataset/IMG_3930.JPG',\n",
       " './dataset/BlankDataset/IMG_3924.JPG',\n",
       " './dataset/BlankDataset/IMG_3932.JPG',\n",
       " './dataset/BlankDataset/IMG_3926.JPG',\n",
       " './dataset/BlankDataset/648.lg_n15315570153438_%ED%81%AC%EA%B8%B0%EB%B3%80%ED%99%98_IMG_3145.JPG',\n",
       " './dataset/BlankDataset/IMG_3846.JPG',\n",
       " './dataset/BlankDataset/IMG_3852.JPG',\n",
       " './dataset/BlankDataset/IMG_3885.JPG',\n",
       " './dataset/BlankDataset/IMG_3891.JPG',\n",
       " './dataset/BlankDataset/603.lg_t15582822273658_%ED%81%AC%EA%B8%B0%EB%B3%80%ED%99%98_IMG_0141_%282%29.JPG',\n",
       " './dataset/BlankDataset/117.00503278_20161124.JPG',\n",
       " './dataset/BlankDataset/IMG_3890.JPG',\n",
       " './dataset/BlankDataset/IMG_3884.JPG',\n",
       " './dataset/BlankDataset/IMG_3853.JPG',\n",
       " './dataset/BlankDataset/IMG_3847.JPG',\n",
       " './dataset/BlankDataset/IMG_3927.JPG',\n",
       " './dataset/BlankDataset/IMG_3933.JPG',\n",
       " './dataset/BlankDataset/224.lg_n15315569958168_%ED%81%AC%EA%B8%B0%EB%B3%80%ED%99%98_IMG_3133.JPG',\n",
       " './dataset/BlankDataset/IMG_3923.JPG',\n",
       " './dataset/BlankDataset/IMG_3843.JPG',\n",
       " './dataset/BlankDataset/IMG_3857.JPG',\n",
       " './dataset/BlankDataset/IMG_3894.JPG',\n",
       " './dataset/BlankDataset/IMG_3895.JPG',\n",
       " './dataset/BlankDataset/IMG_3856.JPG',\n",
       " './dataset/BlankDataset/IMG_3842.JPG',\n",
       " './dataset/BlankDataset/IMG_3922.JPG',\n",
       " './dataset/BlankDataset/IMG_3908.JPG',\n",
       " './dataset/BlankDataset/70.22340d24-edad-4187-a3ad-60018e6b7271.JPG',\n",
       " './dataset/BlankDataset/IMG_3920.JPG',\n",
       " './dataset/BlankDataset/IMG_3868.JPG',\n",
       " './dataset/BlankDataset/IMG_3854.JPG',\n",
       " './dataset/BlankDataset/IMG_3840.JPG',\n",
       " './dataset/BlankDataset/IMG_3897.JPG',\n",
       " './dataset/BlankDataset/IMG_3883.JPG',\n",
       " './dataset/BlankDataset/IMG_3882.JPG',\n",
       " './dataset/BlankDataset/IMG_3896.JPG',\n",
       " './dataset/BlankDataset/IMG_3841.JPG',\n",
       " './dataset/BlankDataset/IMG_3855.JPG',\n",
       " './dataset/BlankDataset/IMG_3869.JPG',\n",
       " './dataset/BlankDataset/175.Maisons_Grand-Place_BXL_03.JPG',\n",
       " './dataset/BlankDataset/IMG_3921.JPG',\n",
       " './dataset/BlankDataset/IMG_3909.JPG',\n",
       " './dataset/BlankDataset/311.cfa18a91-c90b-4898-ac18-086eaa5c01ee.JPG']"
      ]
     },
     "execution_count": 7,
     "metadata": {},
     "output_type": "execute_result"
    }
   ],
   "source": [
    "blankfiles"
   ]
  },
  {
   "cell_type": "code",
   "execution_count": 9,
   "metadata": {},
   "outputs": [
    {
     "data": {
      "text/plain": [
       "4008"
      ]
     },
     "execution_count": 9,
     "metadata": {},
     "output_type": "execute_result"
    }
   ],
   "source": [
    "len(k15)"
   ]
  },
  {
   "cell_type": "code",
   "execution_count": 10,
   "metadata": {},
   "outputs": [
    {
     "data": {
      "text/plain": [
       "array(['./dataset/selfie/testing/00001.png',\n",
       "       './dataset/selfie/testing/00002.png',\n",
       "       './dataset/selfie/testing/00003.png', ...,\n",
       "       './dataset/Supervisely_person_dataset/ds9/img/pexels-photo-884423.png',\n",
       "       './dataset/Supervisely_person_dataset/ds9/img/pexels-photo-868548.png',\n",
       "       './dataset/Supervisely_person_dataset/ds9/img/pexels-photo-867524.png'],\n",
       "      dtype='<U135')"
      ]
     },
     "execution_count": 10,
     "metadata": {},
     "output_type": "execute_result"
    }
   ],
   "source": [
    "k15"
   ]
  },
  {
   "cell_type": "code",
   "execution_count": 11,
   "metadata": {},
   "outputs": [],
   "source": [
    "k15_withblank = np.concatenate((k15, np.array(blankfiles)))"
   ]
  },
  {
   "cell_type": "code",
   "execution_count": 12,
   "metadata": {},
   "outputs": [
    {
     "data": {
      "text/plain": [
       "4200"
      ]
     },
     "execution_count": 12,
     "metadata": {},
     "output_type": "execute_result"
    }
   ],
   "source": [
    "len(k15_withblank)"
   ]
  },
  {
   "cell_type": "code",
   "execution_count": 13,
   "metadata": {},
   "outputs": [
    {
     "data": {
      "text/plain": [
       "array(['./dataset/selfie/testing/00001.png',\n",
       "       './dataset/selfie/testing/00002.png',\n",
       "       './dataset/selfie/testing/00003.png', ...,\n",
       "       './dataset/BlankDataset/IMG_3921.JPG',\n",
       "       './dataset/BlankDataset/IMG_3909.JPG',\n",
       "       './dataset/BlankDataset/311.cfa18a91-c90b-4898-ac18-086eaa5c01ee.JPG'],\n",
       "      dtype='<U161')"
      ]
     },
     "execution_count": 13,
     "metadata": {},
     "output_type": "execute_result"
    }
   ],
   "source": [
    "k15_withblank"
   ]
  },
  {
   "cell_type": "code",
   "execution_count": 14,
   "metadata": {},
   "outputs": [],
   "source": [
    "np.save(\"./dataset/img_paths_with_supervisely_nosmallobject_k15_withBlank.npy\", k15_withblank)"
   ]
  },
  {
   "cell_type": "code",
   "execution_count": 15,
   "metadata": {},
   "outputs": [
    {
     "data": {
      "text/plain": [
       "4392"
      ]
     },
     "execution_count": 15,
     "metadata": {},
     "output_type": "execute_result"
    }
   ],
   "source": [
    "k15_withblank_doubled = np.concatenate((k15_withblank, np.array(blankfiles)))\n",
    "len(k15_withblank_doubled)"
   ]
  },
  {
   "cell_type": "code",
   "execution_count": 16,
   "metadata": {},
   "outputs": [],
   "source": [
    "np.save(\"./dataset/img_paths_with_supervisely_nosmallobject_k15_withBlankDouble.npy\", k15_withblank_doubled)"
   ]
  },
  {
   "cell_type": "markdown",
   "metadata": {},
   "source": [
    "### Custom dataset appending"
   ]
  },
  {
   "cell_type": "code",
   "execution_count": 17,
   "metadata": {},
   "outputs": [],
   "source": [
    "# k15_withBlank = np.load(\"./dataset/img_paths_with_supervisely_nosmallobject_k15_withBlank.npy\")\n",
    "k15_withBlank = np.load(\"./dataset/img_paths_with_supervisely_nosmallobject_k15_withBlankDouble.npy\")"
   ]
  },
  {
   "cell_type": "code",
   "execution_count": 18,
   "metadata": {},
   "outputs": [],
   "source": [
    "custom_path = './dataset/Custom/img'"
   ]
  },
  {
   "cell_type": "code",
   "execution_count": 19,
   "metadata": {},
   "outputs": [],
   "source": [
    "custom_files = [os.path.join(custom_path, f) for f in os.listdir(custom_path) if 'DS_Store' not in f]"
   ]
  },
  {
   "cell_type": "code",
   "execution_count": 20,
   "metadata": {},
   "outputs": [],
   "source": [
    "k15_blank_custom = np.concatenate((k15_withBlank, np.array(custom_files)))"
   ]
  },
  {
   "cell_type": "code",
   "execution_count": 21,
   "metadata": {},
   "outputs": [
    {
     "data": {
      "text/plain": [
       "4573"
      ]
     },
     "execution_count": 21,
     "metadata": {},
     "output_type": "execute_result"
    }
   ],
   "source": [
    "len(k15_blank_custom)"
   ]
  },
  {
   "cell_type": "code",
   "execution_count": 22,
   "metadata": {},
   "outputs": [],
   "source": [
    "# np.save(\"./dataset/img_paths_with_supervisely_nosmallobject_k15_withBlank_and_Custom.npy\", k15_blank_custom)"
   ]
  },
  {
   "cell_type": "code",
   "execution_count": 23,
   "metadata": {},
   "outputs": [],
   "source": [
    "# np.save(\"./dataset/img_paths_with_supervisely_nosmallobject_k15_withBlankDoubled_and_Custom.npy\", k15_blank_custom)"
   ]
  },
  {
   "cell_type": "code",
   "execution_count": 2,
   "metadata": {},
   "outputs": [
    {
     "ename": "NameError",
     "evalue": "name 'k15_blank_custom' is not defined",
     "output_type": "error",
     "traceback": [
      "\u001b[0;31m---------------------------------------------------------------------------\u001b[0m",
      "\u001b[0;31mNameError\u001b[0m                                 Traceback (most recent call last)",
      "\u001b[0;32m<ipython-input-2-e2780b7b6115>\u001b[0m in \u001b[0;36m<module>\u001b[0;34m\u001b[0m\n\u001b[0;32m----> 1\u001b[0;31m \u001b[0mk15_blank_custom\u001b[0m \u001b[0;34m=\u001b[0m \u001b[0mnp\u001b[0m\u001b[0;34m.\u001b[0m\u001b[0mconcatenate\u001b[0m\u001b[0;34m(\u001b[0m\u001b[0;34m(\u001b[0m\u001b[0mk15_blank_custom\u001b[0m\u001b[0;34m,\u001b[0m \u001b[0mnp\u001b[0m\u001b[0;34m.\u001b[0m\u001b[0marray\u001b[0m\u001b[0;34m(\u001b[0m\u001b[0mcustom_files\u001b[0m\u001b[0;34m)\u001b[0m\u001b[0;34m)\u001b[0m\u001b[0;34m)\u001b[0m\u001b[0;34m\u001b[0m\u001b[0;34m\u001b[0m\u001b[0m\n\u001b[0m\u001b[1;32m      2\u001b[0m \u001b[0mlen\u001b[0m\u001b[0;34m(\u001b[0m\u001b[0mk15_blank_custom\u001b[0m\u001b[0;34m)\u001b[0m\u001b[0;34m\u001b[0m\u001b[0;34m\u001b[0m\u001b[0m\n",
      "\u001b[0;31mNameError\u001b[0m: name 'k15_blank_custom' is not defined"
     ]
    }
   ],
   "source": [
    "k15_blank_custom = np.concatenate((k15_blank_custom, np.array(custom_files)))\n",
    "len(k15_blank_custom)"
   ]
  },
  {
   "cell_type": "code",
   "execution_count": 25,
   "metadata": {},
   "outputs": [],
   "source": [
    "np.save(\"./dataset/img_paths_with_supervisely_nosmallobject_k15_withBlankDoubled_and_Custom_doubled.npy\", k15_blank_custom)"
   ]
  },
  {
   "cell_type": "code",
   "execution_count": 7,
   "metadata": {},
   "outputs": [],
   "source": [
    "leg = np.load(\"./dataset/img_paths_with_supervisely_nosmallobject_k15_withBlankDoubled_and_Custom_doubled.npy\")"
   ]
  },
  {
   "cell_type": "code",
   "execution_count": 8,
   "metadata": {},
   "outputs": [],
   "source": [
    "copy_blob = [os.path.join(\"./dataset/copy_blob/img\", x) for x in os.listdir(\"./dataset/copy_blob/img\") if x != \".DS_Store\"]\n"
   ]
  },
  {
   "cell_type": "code",
   "execution_count": 9,
   "metadata": {},
   "outputs": [],
   "source": [
    "new = np.concatenate([leg, np.array(copy_blob)])"
   ]
  },
  {
   "cell_type": "code",
   "execution_count": 10,
   "metadata": {},
   "outputs": [
    {
     "data": {
      "text/plain": [
       "(4600, 6810)"
      ]
     },
     "execution_count": 10,
     "metadata": {},
     "output_type": "execute_result"
    }
   ],
   "source": [
    "len(leg), len(new)"
   ]
  },
  {
   "cell_type": "code",
   "execution_count": 11,
   "metadata": {},
   "outputs": [],
   "source": [
    "np.save(\"./dataset/img_paths_with_supervisely_nosmallobject_k15_withBlankDoubled_and_Custom_doubled_andCopy_blob.npy\", new)"
   ]
  },
  {
   "cell_type": "code",
   "execution_count": null,
   "metadata": {},
   "outputs": [],
   "source": []
  },
  {
   "cell_type": "code",
   "execution_count": null,
   "metadata": {},
   "outputs": [],
   "source": []
  },
  {
   "cell_type": "code",
   "execution_count": null,
   "metadata": {},
   "outputs": [],
   "source": []
  },
  {
   "cell_type": "code",
   "execution_count": null,
   "metadata": {},
   "outputs": [],
   "source": []
  }
 ],
 "metadata": {
  "kernelspec": {
   "display_name": "Python 3",
   "language": "python",
   "name": "python3"
  },
  "language_info": {
   "codemirror_mode": {
    "name": "ipython",
    "version": 3
   },
   "file_extension": ".py",
   "mimetype": "text/x-python",
   "name": "python",
   "nbconvert_exporter": "python",
   "pygments_lexer": "ipython3",
   "version": "3.6.9"
  },
  "toc": {
   "base_numbering": 1,
   "nav_menu": {},
   "number_sections": true,
   "sideBar": true,
   "skip_h1_title": false,
   "title_cell": "Table of Contents",
   "title_sidebar": "Contents",
   "toc_cell": false,
   "toc_position": {},
   "toc_section_display": true,
   "toc_window_display": false
  },
  "varInspector": {
   "cols": {
    "lenName": 16,
    "lenType": 16,
    "lenVar": 40
   },
   "kernels_config": {
    "python": {
     "delete_cmd_postfix": "",
     "delete_cmd_prefix": "del ",
     "library": "var_list.py",
     "varRefreshCmd": "print(var_dic_list())"
    },
    "r": {
     "delete_cmd_postfix": ") ",
     "delete_cmd_prefix": "rm(",
     "library": "var_list.r",
     "varRefreshCmd": "cat(var_dic_list()) "
    }
   },
   "types_to_exclude": [
    "module",
    "function",
    "builtin_function_or_method",
    "instance",
    "_Feature"
   ],
   "window_display": false
  }
 },
 "nbformat": 4,
 "nbformat_minor": 2
}
